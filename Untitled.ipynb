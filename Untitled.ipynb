{
 "cells": [
  {
   "cell_type": "code",
   "execution_count": 12,
   "metadata": {},
   "outputs": [],
   "source": [
    "# Copyright 2019 The TensorTrade Authors.\n",
    "#\n",
    "# Licensed under the Apache License, Version 2.0 (the \"License\");\n",
    "# you may not use this file except in compliance with the License.\n",
    "# You may obtain a copy of the License at\n",
    "#\n",
    "#     http://www.apache.org/licenses/LICENSE-2.0\n",
    "#\n",
    "# Unless required by applicable law or agreed to in writing, software\n",
    "# distributed under the License is distributed on an \"AS IS\" BASIS,\n",
    "# WITHOUT WARRANTIES OR CONDITIONS OF ANY KIND, either express or implied.\n",
    "# See the License for the specific language governing permissions and\n",
    "# limitations under the License\n",
    "import numpy as np\n",
    "\n",
    "from typing import Union\n",
    "from gym.spaces import MultiDiscrete\n",
    "\n",
    "from tensortrade.actions import ActionStrategy, TradeActionUnion, DTypeString\n",
    "from tensortrade.trades import Trade, TradeType\n",
    "\n",
    "\n",
    "class MultiDiscreteActionStrategy(ActionStrategy):\n",
    "    \"\"\"Simple discrete strategy, which calculates the trade amount as a fraction of the total balance.\"\"\"\n",
    "\n",
    "    def __init__(self, n_actions: int = 20, instrument_symbols = ['BTC/USD', 'ETH/USD'], max_allowed_slippage_percent: float = 1.0):\n",
    "        \"\"\"\n",
    "        Arguments:\n",
    "            n_actions: The number of bins to divide the total balance by. Defaults to 20 (i.e. 1/20, 2/20, ..., 20/20).\n",
    "            instrument_symbol: The exchange symbol of the instrument being traded. Defaults to 'BTC'.\n",
    "            max_allowed_slippage: The maximum amount above the current price the strategy will pay for an instrument. Defaults to 1.0 (i.e. 1%).\n",
    "        \"\"\"\n",
    "        _actions = list(map(lambda x: n_actions, instrument_symbols))\n",
    "        super().__init__(action_space=MultiDiscrete(_actions), dtype=np.int64)\n",
    "\n",
    "        self.n_actions = n_actions\n",
    "        self.instrument_symbols = instrument_symbols\n",
    "        self.max_allowed_slippage_percent = max_allowed_slippage_percent\n",
    "\n",
    "    @property\n",
    "    def dtype(self) -> DTypeString:\n",
    "        \"\"\"A type or str corresponding to the dtype of the `action_space`.\"\"\"\n",
    "        return self._dtype\n",
    "\n",
    "    @dtype.setter\n",
    "    def dtype(self, dtype: DTypeString):\n",
    "        raise ValueError(\n",
    "            'Cannot change the dtype of a `SimpleDiscreteStrategy` due to the requirements of `gym.spaces.Discrete` spaces. ')\n",
    "\n",
    "    def get_trade(self, action: TradeActionUnion) -> Trade:\n",
    "        \"\"\"The trade type is determined by `action % len(TradeType)`, and the trade amount is determined by the multiplicity of the action.\n",
    "\n",
    "        For example, 1 = LIMIT_BUY|0.25, 2 = MARKET_BUY|0.25, 6 = LIMIT_BUY|0.5, 7 = MARKET_BUY|0.5, etc.\n",
    "        \"\"\"\n",
    "        n_splits = self.n_actions / len(TradeType)\n",
    "        trade_type = TradeType(action % len(TradeType))\n",
    "        trade_amount = int(action / len(TradeType)) * float(1 / n_splits) + (1 / n_splits)\n",
    "\n",
    "        current_price = self._exchange.current_price(symbol=self.instrument_symbol)\n",
    "        base_precision = self._exchange.base_precision\n",
    "        instrument_precision = self._exchange.instrument_precision\n",
    "\n",
    "        amount = self._exchange.balance_of_instrument(self.instrument_symbol)\n",
    "        price = current_price\n",
    "\n",
    "        if trade_type is TradeType.MARKET_BUY or trade_type is TradeType.LIMIT_BUY:\n",
    "            price_adjustment = 1 + (self.max_allowed_slippage_percent / 100)\n",
    "            price = round(current_price * price_adjustment, base_precision)\n",
    "            amount = round(self._exchange.balance * 0.99 * trade_amount / price, instrument_precision)\n",
    "\n",
    "        elif trade_type is TradeType.MARKET_SELL or trade_type is TradeType.LIMIT_SELL:\n",
    "            price_adjustment = 1 - (self.max_allowed_slippage_percent / 100)\n",
    "            price = round(current_price * price_adjustment, base_precision)\n",
    "            amount_held = self._exchange.portfolio.get(self.instrument_symbol, 0)\n",
    "            amount = round(amount_held * trade_amount, instrument_precision)\n",
    "\n",
    "        return Trade(self.instrument_symbol, trade_type, amount, price)\n"
   ]
  },
  {
   "cell_type": "code",
   "execution_count": 13,
   "metadata": {},
   "outputs": [],
   "source": [
    "x = MultiDiscreteActionStrategy()"
   ]
  },
  {
   "cell_type": "code",
   "execution_count": 14,
   "metadata": {},
   "outputs": [
    {
     "data": {
      "text/plain": [
       "{'_action_space': MultiDiscrete([20 20]),\n",
       " '_dtype': numpy.int64,\n",
       " 'n_actions': 20,\n",
       " 'instrument_symbols': ['BTC/USD', 'ETH/USD'],\n",
       " 'max_allowed_slippage_percent': 1.0}"
      ]
     },
     "execution_count": 14,
     "metadata": {},
     "output_type": "execute_result"
    }
   ],
   "source": [
    "vars(x)"
   ]
  },
  {
   "cell_type": "code",
   "execution_count": 15,
   "metadata": {},
   "outputs": [
    {
     "data": {
      "text/plain": [
       "MultiDiscrete([20 20])"
      ]
     },
     "execution_count": 15,
     "metadata": {},
     "output_type": "execute_result"
    }
   ],
   "source": [
    "x.action_space"
   ]
  },
  {
   "cell_type": "code",
   "execution_count": null,
   "metadata": {},
   "outputs": [],
   "source": []
  },
  {
   "cell_type": "code",
   "execution_count": null,
   "metadata": {},
   "outputs": [],
   "source": []
  }
 ],
 "metadata": {
  "kernelspec": {
   "display_name": "Python 3",
   "language": "python",
   "name": "python3"
  },
  "language_info": {
   "codemirror_mode": {
    "name": "ipython",
    "version": 3
   },
   "file_extension": ".py",
   "mimetype": "text/x-python",
   "name": "python",
   "nbconvert_exporter": "python",
   "pygments_lexer": "ipython3",
   "version": "3.7.3"
  }
 },
 "nbformat": 4,
 "nbformat_minor": 4
}
