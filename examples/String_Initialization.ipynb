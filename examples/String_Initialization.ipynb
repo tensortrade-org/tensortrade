{
 "cells": [
  {
   "cell_type": "markdown",
   "metadata": {},
   "source": [
    "# String Initialization\n",
    "\n",
    "After having some experience with the library and its capabilities, it becomes common to import the same types of components. As more components get added to the library it will be hard to keep track of them, therefore being able to call components by string can make experimenting with different exchanges and strategies much easier."
   ]
  },
  {
   "cell_type": "markdown",
   "metadata": {},
   "source": [
    "### Calling components from packages\n",
    "In order for a component to be callable from a package, it first must be submitted into the registry located in the ```__init__.py``` file that defines the components package. Once the component is registered it is then callable by running ```<component-package>.get(<component-name>)```."
   ]
  },
  {
   "cell_type": "code",
   "execution_count": 12,
   "metadata": {},
   "outputs": [
    {
     "data": {
      "text/plain": [
       "<tensortrade.exchanges.simulated.fbm_exchange.FBMExchange at 0x144056350>"
      ]
     },
     "execution_count": 12,
     "metadata": {},
     "output_type": "execute_result"
    }
   ],
   "source": [
    "import tensortrade as td\n",
    "\n",
    "exchange = td.exchanges.get('fbm')\n",
    "action_scheme = td.actions.get('discrete')\n",
    "reward_scheme = td.rewards.get('simple')\n",
    "\n",
    "exchange"
   ]
  },
  {
   "cell_type": "markdown",
   "metadata": {},
   "source": [
    "Given this capability you can simply instantiate an environment using the following code."
   ]
  },
  {
   "cell_type": "code",
   "execution_count": 10,
   "metadata": {},
   "outputs": [
    {
     "data": {
      "text/plain": [
       "<tensortrade.exchanges.simulated.fbm_exchange.FBMExchange at 0x14404f510>"
      ]
     },
     "execution_count": 10,
     "metadata": {},
     "output_type": "execute_result"
    }
   ],
   "source": [
    "from tensortrade.environments import TradingEnvironment\n",
    "\n",
    "env = TradingEnvironment(exchange='fbm',\n",
    "                         action_scheme='discrete',\n",
    "                         reward_scheme='simple')\n",
    "\n",
    "env.exchange"
   ]
  },
  {
   "cell_type": "markdown",
   "metadata": {},
   "source": [
    "Once default trading environment configurations are developed they can be added to the environment registry in order to be called by only one line."
   ]
  },
  {
   "cell_type": "code",
   "execution_count": 11,
   "metadata": {},
   "outputs": [
    {
     "data": {
      "text/plain": [
       "<tensortrade.exchanges.simulated.simulated_exchange.SimulatedExchange at 0x144021ed0>"
      ]
     },
     "execution_count": 11,
     "metadata": {},
     "output_type": "execute_result"
    }
   ],
   "source": [
    "import tensortrade.environments as envs\n",
    "\n",
    "env = envs.get('basic')\n",
    "\n",
    "### Equivalent creation\n",
    "\n",
    "env = envs.TradingEnvironment(exchange='simulated',\n",
    "                              action_scheme='discrete',\n",
    "                              reward_scheme='simple')\n",
    "\n",
    "env.exchange"
   ]
  }
 ],
 "metadata": {
  "kernelspec": {
   "display_name": "Python 3",
   "language": "python",
   "name": "python3"
  },
  "language_info": {
   "codemirror_mode": {
    "name": "ipython",
    "version": 3
   },
   "file_extension": ".py",
   "mimetype": "text/x-python",
   "name": "python",
   "nbconvert_exporter": "python",
   "pygments_lexer": "ipython3",
   "version": "3.7.4"
  }
 },
 "nbformat": 4,
 "nbformat_minor": 2
}
