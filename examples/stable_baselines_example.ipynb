{
 "cells": [
  {
   "cell_type": "markdown",
   "metadata": {},
   "source": [
    "## Install TensorTrade"
   ]
  },
  {
   "cell_type": "code",
   "execution_count": 1,
   "metadata": {},
   "outputs": [
    {
     "name": "stdout",
     "output_type": "stream",
     "text": [
      "Collecting git+https://github.com/tensortrade-org/tensortrade.git\n",
      "  Cloning https://github.com/tensortrade-org/tensortrade.git to /tmp/pip-req-build-9bm7xts0\n",
      "  Running command git clone --filter=blob:none --quiet https://github.com/tensortrade-org/tensortrade.git /tmp/pip-req-build-9bm7xts0\n",
      "  Resolved https://github.com/tensortrade-org/tensortrade.git to commit bdc83c0ded7281f835ef5cb5bc8f57694bb28e87\n",
      "  Preparing metadata (setup.py) ... \u001b[?25ldone\n",
      "\u001b[?25hRequirement already satisfied: numpy>=1.17.0 in /usr/local/lib/python3.8/dist-packages (from tensortrade==1.0.4.dev1) (1.21.5)\n",
      "Requirement already satisfied: pandas>=0.25.0 in /usr/local/lib/python3.8/dist-packages (from tensortrade==1.0.4.dev1) (1.4.1)\n",
      "Requirement already satisfied: gym>=0.15.7 in /usr/local/lib/python3.8/dist-packages (from tensortrade==1.0.4.dev1) (0.19.0)\n",
      "Requirement already satisfied: pyyaml>=5.1.2 in /usr/local/lib/python3.8/dist-packages (from tensortrade==1.0.4.dev1) (6.0)\n",
      "Requirement already satisfied: stochastic>=0.6.0 in /usr/local/lib/python3.8/dist-packages (from tensortrade==1.0.4.dev1) (0.6.0)\n",
      "Requirement already satisfied: tensorflow>=2.7.0 in /usr/local/lib/python3.8/dist-packages (from tensortrade==1.0.4.dev1) (2.8.0)\n",
      "Requirement already satisfied: ipython>=7.12.0 in /usr/local/lib/python3.8/dist-packages (from tensortrade==1.0.4.dev1) (8.0.1)\n",
      "Requirement already satisfied: matplotlib>=3.1.1 in /usr/local/lib/python3.8/dist-packages (from tensortrade==1.0.4.dev1) (3.5.1)\n",
      "Requirement already satisfied: plotly>=4.5.0 in /usr/local/lib/python3.8/dist-packages (from tensortrade==1.0.4.dev1) (5.6.0)\n",
      "Requirement already satisfied: cloudpickle<1.7.0,>=1.2.0 in /usr/local/lib/python3.8/dist-packages (from gym>=0.15.7->tensortrade==1.0.4.dev1) (1.6.0)\n",
      "Requirement already satisfied: pexpect>4.3 in /usr/local/lib/python3.8/dist-packages (from ipython>=7.12.0->tensortrade==1.0.4.dev1) (4.8.0)\n",
      "Requirement already satisfied: setuptools>=18.5 in /usr/local/lib/python3.8/dist-packages (from ipython>=7.12.0->tensortrade==1.0.4.dev1) (60.7.0)\n",
      "Requirement already satisfied: pygments in /usr/local/lib/python3.8/dist-packages (from ipython>=7.12.0->tensortrade==1.0.4.dev1) (2.11.2)\n",
      "Requirement already satisfied: matplotlib-inline in /usr/local/lib/python3.8/dist-packages (from ipython>=7.12.0->tensortrade==1.0.4.dev1) (0.1.3)\n",
      "Requirement already satisfied: pickleshare in /usr/local/lib/python3.8/dist-packages (from ipython>=7.12.0->tensortrade==1.0.4.dev1) (0.7.5)\n",
      "Requirement already satisfied: backcall in /usr/local/lib/python3.8/dist-packages (from ipython>=7.12.0->tensortrade==1.0.4.dev1) (0.2.0)\n",
      "Requirement already satisfied: traitlets>=5 in /usr/local/lib/python3.8/dist-packages (from ipython>=7.12.0->tensortrade==1.0.4.dev1) (5.1.1)\n",
      "Requirement already satisfied: decorator in /usr/local/lib/python3.8/dist-packages (from ipython>=7.12.0->tensortrade==1.0.4.dev1) (5.1.1)\n",
      "Requirement already satisfied: black in /usr/local/lib/python3.8/dist-packages (from ipython>=7.12.0->tensortrade==1.0.4.dev1) (22.1.0)\n",
      "Requirement already satisfied: prompt-toolkit!=3.0.0,!=3.0.1,<3.1.0,>=2.0.0 in /usr/local/lib/python3.8/dist-packages (from ipython>=7.12.0->tensortrade==1.0.4.dev1) (3.0.28)\n",
      "Requirement already satisfied: jedi>=0.16 in /usr/local/lib/python3.8/dist-packages (from ipython>=7.12.0->tensortrade==1.0.4.dev1) (0.18.1)\n",
      "Requirement already satisfied: stack-data in /usr/local/lib/python3.8/dist-packages (from ipython>=7.12.0->tensortrade==1.0.4.dev1) (0.2.0)\n",
      "Requirement already satisfied: packaging>=20.0 in /usr/local/lib/python3.8/dist-packages (from matplotlib>=3.1.1->tensortrade==1.0.4.dev1) (21.3)\n",
      "Requirement already satisfied: pyparsing>=2.2.1 in /usr/local/lib/python3.8/dist-packages (from matplotlib>=3.1.1->tensortrade==1.0.4.dev1) (3.0.7)\n",
      "Requirement already satisfied: cycler>=0.10 in /usr/local/lib/python3.8/dist-packages (from matplotlib>=3.1.1->tensortrade==1.0.4.dev1) (0.11.0)\n",
      "Requirement already satisfied: fonttools>=4.22.0 in /usr/local/lib/python3.8/dist-packages (from matplotlib>=3.1.1->tensortrade==1.0.4.dev1) (4.29.1)\n",
      "Requirement already satisfied: pillow>=6.2.0 in /usr/local/lib/python3.8/dist-packages (from matplotlib>=3.1.1->tensortrade==1.0.4.dev1) (9.0.1)\n",
      "Requirement already satisfied: kiwisolver>=1.0.1 in /usr/local/lib/python3.8/dist-packages (from matplotlib>=3.1.1->tensortrade==1.0.4.dev1) (1.3.2)\n",
      "Requirement already satisfied: python-dateutil>=2.7 in /usr/local/lib/python3.8/dist-packages (from matplotlib>=3.1.1->tensortrade==1.0.4.dev1) (2.8.2)\n",
      "Requirement already satisfied: pytz>=2020.1 in /usr/local/lib/python3.8/dist-packages (from pandas>=0.25.0->tensortrade==1.0.4.dev1) (2021.3)\n",
      "Requirement already satisfied: six in /usr/lib/python3/dist-packages (from plotly>=4.5.0->tensortrade==1.0.4.dev1) (1.14.0)\n",
      "Requirement already satisfied: tenacity>=6.2.0 in /usr/local/lib/python3.8/dist-packages (from plotly>=4.5.0->tensortrade==1.0.4.dev1) (8.0.1)\n",
      "Requirement already satisfied: scipy<2.0,>=1.3 in /usr/local/lib/python3.8/dist-packages (from stochastic>=0.6.0->tensortrade==1.0.4.dev1) (1.5.4)\n",
      "Requirement already satisfied: absl-py>=0.4.0 in /usr/local/lib/python3.8/dist-packages (from tensorflow>=2.7.0->tensortrade==1.0.4.dev1) (1.0.0)\n",
      "Requirement already satisfied: google-pasta>=0.1.1 in /usr/local/lib/python3.8/dist-packages (from tensorflow>=2.7.0->tensortrade==1.0.4.dev1) (0.2.0)\n",
      "Requirement already satisfied: gast>=0.2.1 in /usr/local/lib/python3.8/dist-packages (from tensorflow>=2.7.0->tensortrade==1.0.4.dev1) (0.5.3)\n",
      "Requirement already satisfied: tensorflow-io-gcs-filesystem>=0.23.1 in /usr/local/lib/python3.8/dist-packages (from tensorflow>=2.7.0->tensortrade==1.0.4.dev1) (0.23.1)\n",
      "Requirement already satisfied: grpcio<2.0,>=1.24.3 in /usr/local/lib/python3.8/dist-packages (from tensorflow>=2.7.0->tensortrade==1.0.4.dev1) (1.43.0)\n",
      "Requirement already satisfied: termcolor>=1.1.0 in /usr/local/lib/python3.8/dist-packages (from tensorflow>=2.7.0->tensortrade==1.0.4.dev1) (1.1.0)\n",
      "Requirement already satisfied: tf-estimator-nightly==2.8.0.dev2021122109 in /usr/local/lib/python3.8/dist-packages (from tensorflow>=2.7.0->tensortrade==1.0.4.dev1) (2.8.0.dev2021122109)\n",
      "Requirement already satisfied: protobuf>=3.9.2 in /usr/local/lib/python3.8/dist-packages (from tensorflow>=2.7.0->tensortrade==1.0.4.dev1) (3.19.4)\n",
      "Requirement already satisfied: opt-einsum>=2.3.2 in /usr/local/lib/python3.8/dist-packages (from tensorflow>=2.7.0->tensortrade==1.0.4.dev1) (3.3.0)\n",
      "Requirement already satisfied: libclang>=9.0.1 in /usr/local/lib/python3.8/dist-packages (from tensorflow>=2.7.0->tensortrade==1.0.4.dev1) (13.0.0)\n",
      "Requirement already satisfied: flatbuffers>=1.12 in /usr/local/lib/python3.8/dist-packages (from tensorflow>=2.7.0->tensortrade==1.0.4.dev1) (2.0)\n",
      "Requirement already satisfied: keras<2.9,>=2.8.0rc0 in /usr/local/lib/python3.8/dist-packages (from tensorflow>=2.7.0->tensortrade==1.0.4.dev1) (2.8.0)\n",
      "Requirement already satisfied: keras-preprocessing>=1.1.1 in /usr/local/lib/python3.8/dist-packages (from tensorflow>=2.7.0->tensortrade==1.0.4.dev1) (1.1.2)\n",
      "Requirement already satisfied: wrapt>=1.11.0 in /usr/local/lib/python3.8/dist-packages (from tensorflow>=2.7.0->tensortrade==1.0.4.dev1) (1.13.3)\n",
      "Requirement already satisfied: h5py>=2.9.0 in /usr/local/lib/python3.8/dist-packages (from tensorflow>=2.7.0->tensortrade==1.0.4.dev1) (3.6.0)\n",
      "Requirement already satisfied: tensorboard<2.9,>=2.8 in /usr/local/lib/python3.8/dist-packages (from tensorflow>=2.7.0->tensortrade==1.0.4.dev1) (2.8.0)\n",
      "Requirement already satisfied: astunparse>=1.6.0 in /usr/local/lib/python3.8/dist-packages (from tensorflow>=2.7.0->tensortrade==1.0.4.dev1) (1.6.3)\n",
      "Requirement already satisfied: typing-extensions>=3.6.6 in /usr/local/lib/python3.8/dist-packages (from tensorflow>=2.7.0->tensortrade==1.0.4.dev1) (4.0.1)\n",
      "Requirement already satisfied: wheel<1.0,>=0.23.0 in /usr/lib/python3/dist-packages (from astunparse>=1.6.0->tensorflow>=2.7.0->tensortrade==1.0.4.dev1) (0.34.2)\n",
      "Requirement already satisfied: parso<0.9.0,>=0.8.0 in /usr/local/lib/python3.8/dist-packages (from jedi>=0.16->ipython>=7.12.0->tensortrade==1.0.4.dev1) (0.8.3)\n",
      "Requirement already satisfied: ptyprocess>=0.5 in /usr/local/lib/python3.8/dist-packages (from pexpect>4.3->ipython>=7.12.0->tensortrade==1.0.4.dev1) (0.7.0)\n",
      "Requirement already satisfied: wcwidth in /usr/local/lib/python3.8/dist-packages (from prompt-toolkit!=3.0.0,!=3.0.1,<3.1.0,>=2.0.0->ipython>=7.12.0->tensortrade==1.0.4.dev1) (0.2.5)\n"
     ]
    },
    {
     "name": "stdout",
     "output_type": "stream",
     "text": [
      "Requirement already satisfied: werkzeug>=0.11.15 in /usr/local/lib/python3.8/dist-packages (from tensorboard<2.9,>=2.8->tensorflow>=2.7.0->tensortrade==1.0.4.dev1) (2.0.2)\n",
      "Requirement already satisfied: google-auth<3,>=1.6.3 in /usr/local/lib/python3.8/dist-packages (from tensorboard<2.9,>=2.8->tensorflow>=2.7.0->tensortrade==1.0.4.dev1) (2.6.0)\n",
      "Requirement already satisfied: google-auth-oauthlib<0.5,>=0.4.1 in /usr/local/lib/python3.8/dist-packages (from tensorboard<2.9,>=2.8->tensorflow>=2.7.0->tensortrade==1.0.4.dev1) (0.4.6)\n",
      "Requirement already satisfied: tensorboard-data-server<0.7.0,>=0.6.0 in /usr/local/lib/python3.8/dist-packages (from tensorboard<2.9,>=2.8->tensorflow>=2.7.0->tensortrade==1.0.4.dev1) (0.6.1)\n",
      "Requirement already satisfied: tensorboard-plugin-wit>=1.6.0 in /usr/local/lib/python3.8/dist-packages (from tensorboard<2.9,>=2.8->tensorflow>=2.7.0->tensortrade==1.0.4.dev1) (1.8.1)\n",
      "Requirement already satisfied: markdown>=2.6.8 in /usr/local/lib/python3.8/dist-packages (from tensorboard<2.9,>=2.8->tensorflow>=2.7.0->tensortrade==1.0.4.dev1) (3.3.6)\n",
      "Requirement already satisfied: requests<3,>=2.21.0 in /usr/local/lib/python3.8/dist-packages (from tensorboard<2.9,>=2.8->tensorflow>=2.7.0->tensortrade==1.0.4.dev1) (2.27.1)\n",
      "Requirement already satisfied: tomli>=1.1.0 in /usr/local/lib/python3.8/dist-packages (from black->ipython>=7.12.0->tensortrade==1.0.4.dev1) (2.0.1)\n",
      "Requirement already satisfied: pathspec>=0.9.0 in /usr/local/lib/python3.8/dist-packages (from black->ipython>=7.12.0->tensortrade==1.0.4.dev1) (0.9.0)\n",
      "Requirement already satisfied: click>=8.0.0 in /usr/local/lib/python3.8/dist-packages (from black->ipython>=7.12.0->tensortrade==1.0.4.dev1) (8.0.4)\n",
      "Requirement already satisfied: platformdirs>=2 in /usr/local/lib/python3.8/dist-packages (from black->ipython>=7.12.0->tensortrade==1.0.4.dev1) (2.5.1)\n",
      "Requirement already satisfied: mypy-extensions>=0.4.3 in /usr/local/lib/python3.8/dist-packages (from black->ipython>=7.12.0->tensortrade==1.0.4.dev1) (0.4.3)\n",
      "Requirement already satisfied: executing in /usr/local/lib/python3.8/dist-packages (from stack-data->ipython>=7.12.0->tensortrade==1.0.4.dev1) (0.8.2)\n",
      "Requirement already satisfied: asttokens in /usr/local/lib/python3.8/dist-packages (from stack-data->ipython>=7.12.0->tensortrade==1.0.4.dev1) (2.0.5)\n",
      "Requirement already satisfied: pure-eval in /usr/local/lib/python3.8/dist-packages (from stack-data->ipython>=7.12.0->tensortrade==1.0.4.dev1) (0.2.2)\n",
      "Requirement already satisfied: cachetools<6.0,>=2.0.0 in /usr/local/lib/python3.8/dist-packages (from google-auth<3,>=1.6.3->tensorboard<2.9,>=2.8->tensorflow>=2.7.0->tensortrade==1.0.4.dev1) (5.0.0)\n",
      "Requirement already satisfied: rsa<5,>=3.1.4 in /usr/local/lib/python3.8/dist-packages (from google-auth<3,>=1.6.3->tensorboard<2.9,>=2.8->tensorflow>=2.7.0->tensortrade==1.0.4.dev1) (4.8)\n",
      "Requirement already satisfied: pyasn1-modules>=0.2.1 in /usr/local/lib/python3.8/dist-packages (from google-auth<3,>=1.6.3->tensorboard<2.9,>=2.8->tensorflow>=2.7.0->tensortrade==1.0.4.dev1) (0.2.8)\n",
      "Requirement already satisfied: requests-oauthlib>=0.7.0 in /usr/local/lib/python3.8/dist-packages (from google-auth-oauthlib<0.5,>=0.4.1->tensorboard<2.9,>=2.8->tensorflow>=2.7.0->tensortrade==1.0.4.dev1) (1.3.1)\n",
      "Requirement already satisfied: importlib-metadata>=4.4 in /usr/local/lib/python3.8/dist-packages (from markdown>=2.6.8->tensorboard<2.9,>=2.8->tensorflow>=2.7.0->tensortrade==1.0.4.dev1) (4.10.1)\n",
      "Requirement already satisfied: urllib3<1.27,>=1.21.1 in /usr/lib/python3/dist-packages (from requests<3,>=2.21.0->tensorboard<2.9,>=2.8->tensorflow>=2.7.0->tensortrade==1.0.4.dev1) (1.25.8)\n",
      "Requirement already satisfied: idna<4,>=2.5 in /usr/lib/python3/dist-packages (from requests<3,>=2.21.0->tensorboard<2.9,>=2.8->tensorflow>=2.7.0->tensortrade==1.0.4.dev1) (2.8)\n",
      "Requirement already satisfied: certifi>=2017.4.17 in /usr/lib/python3/dist-packages (from requests<3,>=2.21.0->tensorboard<2.9,>=2.8->tensorflow>=2.7.0->tensortrade==1.0.4.dev1) (2019.11.28)\n",
      "Requirement already satisfied: charset-normalizer~=2.0.0 in /usr/local/lib/python3.8/dist-packages (from requests<3,>=2.21.0->tensorboard<2.9,>=2.8->tensorflow>=2.7.0->tensortrade==1.0.4.dev1) (2.0.12)\n",
      "Requirement already satisfied: zipp>=0.5 in /usr/local/lib/python3.8/dist-packages (from importlib-metadata>=4.4->markdown>=2.6.8->tensorboard<2.9,>=2.8->tensorflow>=2.7.0->tensortrade==1.0.4.dev1) (3.7.0)\n",
      "Requirement already satisfied: pyasn1<0.5.0,>=0.4.6 in /usr/local/lib/python3.8/dist-packages (from pyasn1-modules>=0.2.1->google-auth<3,>=1.6.3->tensorboard<2.9,>=2.8->tensorflow>=2.7.0->tensortrade==1.0.4.dev1) (0.4.8)\n",
      "Requirement already satisfied: oauthlib>=3.0.0 in /usr/local/lib/python3.8/dist-packages (from requests-oauthlib>=0.7.0->google-auth-oauthlib<0.5,>=0.4.1->tensorboard<2.9,>=2.8->tensorflow>=2.7.0->tensortrade==1.0.4.dev1) (3.2.0)\n",
      "\u001b[33mWARNING: Running pip as the 'root' user can result in broken permissions and conflicting behaviour with the system package manager. It is recommended to use a virtual environment instead: https://pip.pypa.io/warnings/venv\u001b[0m\u001b[33m\n",
      "\u001b[0m"
     ]
    }
   ],
   "source": [
    "!python3 -m pip install git+https://github.com/tensortrade-org/tensortrade.git"
   ]
  },
  {
   "cell_type": "markdown",
   "metadata": {},
   "source": [
    "## Define global variables"
   ]
  },
  {
   "cell_type": "code",
   "execution_count": 2,
   "metadata": {},
   "outputs": [],
   "source": [
    "n_steps = 1000\n",
    "n_episodes = 20\n",
    "window_size = 30\n",
    "memory_capacity = n_steps * 10\n",
    "save_path = 'agents/'\n",
    "n_bins = 5             # Number of bins to partition the dataset evenly in order to evaluate class sparsity.\n",
    "seed = 1337"
   ]
  },
  {
   "cell_type": "markdown",
   "metadata": {},
   "source": [
    "## Setup Data Fetching"
   ]
  },
  {
   "cell_type": "code",
   "execution_count": 3,
   "metadata": {},
   "outputs": [],
   "source": [
    "from tensortrade.data.cdd import CryptoDataDownload\n",
    "\n",
    "import numpy as np\n",
    "import pandas as pd\n",
    "pd.options.mode.use_inf_as_na = True\n",
    "\n",
    "def prepare_data(df):\n",
    "    df['volume'] = np.int64(df['volume'])\n",
    "    df['date'] = pd.to_datetime(df['date'])\n",
    "    df.sort_values(by='date', ascending=True, inplace=True)\n",
    "    df.reset_index(drop=True, inplace=True)\n",
    "    df['date'] = df['date'].dt.strftime('%Y-%m-%d %I:%M %p')\n",
    "    return df\n",
    "\n",
    "def fetch_data():\n",
    "    cdd = CryptoDataDownload()\n",
    "    bitfinex_data = cdd.fetch(\"Bitfinex\", \"USD\", \"BTC\", \"1h\")\n",
    "    bitfinex_data = bitfinex_data[['date', 'open', 'high', 'low', 'close', 'volume']]\n",
    "    bitfinex_data = prepare_data(bitfinex_data)\n",
    "    return bitfinex_data\n",
    "\n",
    "def load_csv(filename):\n",
    "    df = pd.read_csv('data/' + filename, skiprows=1)\n",
    "    df.drop(columns=['symbol', 'volume_btc'], inplace=True)\n",
    "\n",
    "    # Fix timestamp from \"2019-10-17 09-AM\" to \"2019-10-17 09-00-00 AM\"\n",
    "    df['date'] = df['date'].str[:14] + '00-00 ' + df['date'].str[-2:]\n",
    "\n",
    "    return prepare_data(df)"
   ]
  },
  {
   "cell_type": "code",
   "execution_count": 4,
   "metadata": {},
   "outputs": [
    {
     "data": {
      "text/html": [
       "<div>\n",
       "<style scoped>\n",
       "    .dataframe tbody tr th:only-of-type {\n",
       "        vertical-align: middle;\n",
       "    }\n",
       "\n",
       "    .dataframe tbody tr th {\n",
       "        vertical-align: top;\n",
       "    }\n",
       "\n",
       "    .dataframe thead th {\n",
       "        text-align: right;\n",
       "    }\n",
       "</style>\n",
       "<table border=\"1\" class=\"dataframe\">\n",
       "  <thead>\n",
       "    <tr style=\"text-align: right;\">\n",
       "      <th></th>\n",
       "      <th>date</th>\n",
       "      <th>open</th>\n",
       "      <th>high</th>\n",
       "      <th>low</th>\n",
       "      <th>close</th>\n",
       "      <th>volume</th>\n",
       "    </tr>\n",
       "  </thead>\n",
       "  <tbody>\n",
       "    <tr>\n",
       "      <th>0</th>\n",
       "      <td>2018-05-15 06:00 AM</td>\n",
       "      <td>8723.8</td>\n",
       "      <td>8793.000000</td>\n",
       "      <td>8714.900000</td>\n",
       "      <td>8739.000000</td>\n",
       "      <td>8988053</td>\n",
       "    </tr>\n",
       "    <tr>\n",
       "      <th>1</th>\n",
       "      <td>2018-05-15 07:00 AM</td>\n",
       "      <td>8739.0</td>\n",
       "      <td>8754.800000</td>\n",
       "      <td>8719.300000</td>\n",
       "      <td>8743.000000</td>\n",
       "      <td>2288904</td>\n",
       "    </tr>\n",
       "    <tr>\n",
       "      <th>2</th>\n",
       "      <td>2018-05-15 08:00 AM</td>\n",
       "      <td>8743.0</td>\n",
       "      <td>8743.100000</td>\n",
       "      <td>8653.200000</td>\n",
       "      <td>8723.700000</td>\n",
       "      <td>8891773</td>\n",
       "    </tr>\n",
       "    <tr>\n",
       "      <th>3</th>\n",
       "      <td>2018-05-15 09:00 AM</td>\n",
       "      <td>8723.7</td>\n",
       "      <td>8737.800000</td>\n",
       "      <td>8701.200000</td>\n",
       "      <td>8708.100000</td>\n",
       "      <td>2054868</td>\n",
       "    </tr>\n",
       "    <tr>\n",
       "      <th>4</th>\n",
       "      <td>2018-05-15 10:00 AM</td>\n",
       "      <td>8708.1</td>\n",
       "      <td>8855.700000</td>\n",
       "      <td>8695.800000</td>\n",
       "      <td>8784.400000</td>\n",
       "      <td>17309722</td>\n",
       "    </tr>\n",
       "    <tr>\n",
       "      <th>...</th>\n",
       "      <td>...</td>\n",
       "      <td>...</td>\n",
       "      <td>...</td>\n",
       "      <td>...</td>\n",
       "      <td>...</td>\n",
       "      <td>...</td>\n",
       "    </tr>\n",
       "    <tr>\n",
       "      <th>33033</th>\n",
       "      <td>2022-02-19 08:00 PM</td>\n",
       "      <td>40000.0</td>\n",
       "      <td>40139.000000</td>\n",
       "      <td>39976.000000</td>\n",
       "      <td>40114.000000</td>\n",
       "      <td>1309665</td>\n",
       "    </tr>\n",
       "    <tr>\n",
       "      <th>33034</th>\n",
       "      <td>2022-02-19 09:00 PM</td>\n",
       "      <td>40110.0</td>\n",
       "      <td>40110.000000</td>\n",
       "      <td>39818.000000</td>\n",
       "      <td>39966.000000</td>\n",
       "      <td>1364890</td>\n",
       "    </tr>\n",
       "    <tr>\n",
       "      <th>33035</th>\n",
       "      <td>2022-02-19 10:00 PM</td>\n",
       "      <td>39966.0</td>\n",
       "      <td>40087.000000</td>\n",
       "      <td>39916.000000</td>\n",
       "      <td>40071.000000</td>\n",
       "      <td>840756</td>\n",
       "    </tr>\n",
       "    <tr>\n",
       "      <th>33036</th>\n",
       "      <td>2022-02-19 11:00 PM</td>\n",
       "      <td>40072.0</td>\n",
       "      <td>40179.000000</td>\n",
       "      <td>40012.000000</td>\n",
       "      <td>40128.000000</td>\n",
       "      <td>2941451</td>\n",
       "    </tr>\n",
       "    <tr>\n",
       "      <th>33037</th>\n",
       "      <td>2022-02-20 12:00 AM</td>\n",
       "      <td>40130.0</td>\n",
       "      <td>40164.054768</td>\n",
       "      <td>40072.282281</td>\n",
       "      <td>40072.282281</td>\n",
       "      <td>222401</td>\n",
       "    </tr>\n",
       "  </tbody>\n",
       "</table>\n",
       "<p>33038 rows × 6 columns</p>\n",
       "</div>"
      ],
      "text/plain": [
       "                      date     open          high           low         close  \\\n",
       "0      2018-05-15 06:00 AM   8723.8   8793.000000   8714.900000   8739.000000   \n",
       "1      2018-05-15 07:00 AM   8739.0   8754.800000   8719.300000   8743.000000   \n",
       "2      2018-05-15 08:00 AM   8743.0   8743.100000   8653.200000   8723.700000   \n",
       "3      2018-05-15 09:00 AM   8723.7   8737.800000   8701.200000   8708.100000   \n",
       "4      2018-05-15 10:00 AM   8708.1   8855.700000   8695.800000   8784.400000   \n",
       "...                    ...      ...           ...           ...           ...   \n",
       "33033  2022-02-19 08:00 PM  40000.0  40139.000000  39976.000000  40114.000000   \n",
       "33034  2022-02-19 09:00 PM  40110.0  40110.000000  39818.000000  39966.000000   \n",
       "33035  2022-02-19 10:00 PM  39966.0  40087.000000  39916.000000  40071.000000   \n",
       "33036  2022-02-19 11:00 PM  40072.0  40179.000000  40012.000000  40128.000000   \n",
       "33037  2022-02-20 12:00 AM  40130.0  40164.054768  40072.282281  40072.282281   \n",
       "\n",
       "         volume  \n",
       "0       8988053  \n",
       "1       2288904  \n",
       "2       8891773  \n",
       "3       2054868  \n",
       "4      17309722  \n",
       "...         ...  \n",
       "33033   1309665  \n",
       "33034   1364890  \n",
       "33035    840756  \n",
       "33036   2941451  \n",
       "33037    222401  \n",
       "\n",
       "[33038 rows x 6 columns]"
      ]
     },
     "execution_count": 4,
     "metadata": {},
     "output_type": "execute_result"
    }
   ],
   "source": [
    "data = fetch_data()\n",
    "data"
   ]
  },
  {
   "cell_type": "markdown",
   "metadata": {},
   "source": [
    "## Create features for the feed module"
   ]
  },
  {
   "cell_type": "code",
   "execution_count": 5,
   "metadata": {},
   "outputs": [],
   "source": [
    "import os\n",
    "import numpy as np\n",
    "import ta as ta1\n",
    "import pandas_ta as ta\n",
    "\n",
    "import quantstats as qs\n",
    "qs.extend_pandas()\n",
    "\n",
    "def fix_dataset_inconsistencies(dataframe, fill_value=None):\n",
    "    dataframe = dataframe.replace([-np.inf, np.inf], np.nan)\n",
    "\n",
    "    # This is done to avoid filling middle holes with backfilling.\n",
    "    if fill_value is None:\n",
    "        dataframe.iloc[0,:] = \\\n",
    "            dataframe.apply(lambda column: column.iloc[column.first_valid_index()], axis='index')\n",
    "    else:\n",
    "        dataframe.iloc[0,:] = \\\n",
    "            dataframe.iloc[0,:].fillna(fill_value)\n",
    "\n",
    "    return dataframe.fillna(axis='index', method='pad').dropna(axis='columns')\n",
    "\n",
    "def rsi(price: 'pd.Series[pd.Float64Dtype]', period: float) -> 'pd.Series[pd.Float64Dtype]':\n",
    "    r = price.diff()\n",
    "    upside = np.minimum(r, 0).abs()\n",
    "    downside = np.maximum(r, 0).abs()\n",
    "    rs = upside.ewm(alpha=1 / period).mean() / downside.ewm(alpha=1 / period).mean()\n",
    "    return 100*(1 - (1 + rs) ** -1)\n",
    "\n",
    "def macd(price: 'pd.Series[pd.Float64Dtype]', fast: float, slow: float, signal: float) -> 'pd.Series[pd.Float64Dtype]':\n",
    "    fm = price.ewm(span=fast, adjust=False).mean()\n",
    "    sm = price.ewm(span=slow, adjust=False).mean()\n",
    "    md = fm - sm\n",
    "    signal = md - md.ewm(span=signal, adjust=False).mean()\n",
    "    return signal\n",
    "\n",
    "def generate_all_default_quantstats_features(data):\n",
    "    excluded_indicators = [\n",
    "        'compare',\n",
    "        'greeks',\n",
    "        'information_ratio',\n",
    "        'omega',\n",
    "        'r2',\n",
    "        'r_squared',\n",
    "        'rolling_greeks',\n",
    "        'warn',\n",
    "    ]\n",
    "    \n",
    "    indicators_list = [f for f in dir(qs.stats) if f[0] != '_' and f not in excluded_indicators]\n",
    "    \n",
    "    df = data.copy()\n",
    "    df = df.set_index('date')\n",
    "    df.index = pd.DatetimeIndex(df.index)\n",
    "\n",
    "    for indicator_name in indicators_list:\n",
    "        try:\n",
    "            #print(indicator_name)\n",
    "            indicator = qs.stats.__dict__[indicator_name](df['close'])\n",
    "            if isinstance(indicator, pd.Series):\n",
    "                indicator = indicator.to_frame(name=indicator_name)\n",
    "                df = pd.concat([df, indicator], axis='columns')\n",
    "        except (pd.errors.InvalidIndexError, ValueError):\n",
    "            pass\n",
    "\n",
    "    df = df.reset_index()\n",
    "    return df\n",
    "\n",
    "def generate_features(data):\n",
    "    # Automatically-generated using pandas_ta\n",
    "    df = data.copy()\n",
    "\n",
    "    strategies = ['candles', \n",
    "                  'cycles', \n",
    "                  'momentum', \n",
    "                  'overlap', \n",
    "                  'performance', \n",
    "                  'statistics', \n",
    "                  'trend', \n",
    "                  'volatility', \n",
    "                  'volume']\n",
    "\n",
    "    df.index = pd.DatetimeIndex(df.index)\n",
    "\n",
    "    cores = os.cpu_count()\n",
    "    df.ta.cores = cores\n",
    "\n",
    "    for strategy in strategies:\n",
    "        df.ta.strategy(strategy, exclude=['kvo'])\n",
    "\n",
    "    df = df.set_index('date')\n",
    "\n",
    "    # Generate all default indicators from ta library\n",
    "    ta1.add_all_ta_features(data, \n",
    "                            'open', \n",
    "                            'high', \n",
    "                            'low', \n",
    "                            'close', \n",
    "                            'volume', \n",
    "                            fillna=True)\n",
    "\n",
    "    # Naming convention across most technical indicator libraries\n",
    "    data = data.rename(columns={'open': 'Open', \n",
    "                                'high': 'High', \n",
    "                                'low': 'Low', \n",
    "                                'close': 'Close', \n",
    "                                'volume': 'Volume'})\n",
    "    data = data.set_index('date')\n",
    "\n",
    "    # Custom indicators\n",
    "    features = pd.DataFrame.from_dict({\n",
    "        'prev_open': data['Open'].shift(1),\n",
    "        'prev_high': data['High'].shift(1),\n",
    "        'prev_low': data['Low'].shift(1),\n",
    "        'prev_close': data['Close'].shift(1),\n",
    "        'prev_volume': data['Volume'].shift(1),\n",
    "        'vol_5': data['Close'].rolling(window=5).std().abs(),\n",
    "        'vol_10': data['Close'].rolling(window=10).std().abs(),\n",
    "        'vol_20': data['Close'].rolling(window=20).std().abs(),\n",
    "        'vol_30': data['Close'].rolling(window=30).std().abs(),\n",
    "        'vol_50': data['Close'].rolling(window=50).std().abs(),\n",
    "        'vol_60': data['Close'].rolling(window=60).std().abs(),\n",
    "        'vol_100': data['Close'].rolling(window=100).std().abs(),\n",
    "        'vol_200': data['Close'].rolling(window=200).std().abs(),\n",
    "        'ma_5': data['Close'].rolling(window=5).mean(),\n",
    "        'ma_10': data['Close'].rolling(window=10).mean(),\n",
    "        'ma_20': data['Close'].rolling(window=20).mean(),\n",
    "        'ma_30': data['Close'].rolling(window=30).mean(),\n",
    "        'ma_50': data['Close'].rolling(window=50).mean(),\n",
    "        'ma_60': data['Close'].rolling(window=60).mean(),\n",
    "        'ma_100': data['Close'].rolling(window=100).mean(),\n",
    "        'ma_200': data['Close'].rolling(window=200).mean(),\n",
    "        'ema_5': ta1.trend.ema_indicator(data['Close'], window=5, fillna=True),\n",
    "        'ema_10': ta1.trend.ema_indicator(data['Close'], window=10, fillna=True),\n",
    "        'ema_20': ta1.trend.ema_indicator(data['Close'], window=20, fillna=True),\n",
    "        'ema_60': ta1.trend.ema_indicator(data['Close'], window=60, fillna=True),\n",
    "        'ema_64': ta1.trend.ema_indicator(data['Close'], window=64, fillna=True),\n",
    "        'ema_120': ta1.trend.ema_indicator(data['Close'], window=120, fillna=True),\n",
    "        'lr_open': np.log(data['Open']).diff().fillna(0),\n",
    "        'lr_high': np.log(data['High']).diff().fillna(0),\n",
    "        'lr_low': np.log(data['Low']).diff().fillna(0),\n",
    "        'lr_close': np.log(data['Close']).diff().fillna(0),\n",
    "        'r_volume': data['Close'].diff().fillna(0),\n",
    "        'rsi_5': rsi(data['Close'], period=5),\n",
    "        'rsi_10': rsi(data['Close'], period=10),\n",
    "        'rsi_100': rsi(data['Close'], period=100),\n",
    "        'rsi_7': rsi(data['Close'], period=7),\n",
    "        'rsi_28': rsi(data['Close'], period=28),\n",
    "        'rsi_6': rsi(data['Close'], period=6),\n",
    "        'rsi_14': rsi(data['Close'], period=14),\n",
    "        'rsi_26': rsi(data['Close'], period=24),\n",
    "        'macd_normal': macd(data['Close'], fast=12, slow=26, signal=9),\n",
    "        'macd_short': macd(data['Close'], fast=10, slow=50, signal=5),\n",
    "        'macd_long': macd(data['Close'], fast=200, slow=100, signal=50),\n",
    "    })\n",
    "\n",
    "    # Concatenate both manually and automatically generated features\n",
    "    data = pd.concat([data, features], axis='columns').fillna(method='pad')\n",
    "\n",
    "    # Remove potential column duplicates\n",
    "    data = data.loc[:,~data.columns.duplicated()]\n",
    "\n",
    "    # Revert naming convention\n",
    "    data = data.rename(columns={'Open': 'open', \n",
    "                                'High': 'high', \n",
    "                                'Low': 'low', \n",
    "                                'Close': 'close', \n",
    "                                'Volume': 'volume'})\n",
    "\n",
    "    # Concatenate both manually and automatically generated features\n",
    "    data = pd.concat([data, df], axis='columns').fillna(method='pad')\n",
    "\n",
    "    # Remove potential column duplicates\n",
    "    data = data.loc[:,~data.columns.duplicated()]\n",
    "\n",
    "    data = data.reset_index()\n",
    "\n",
    "    # Generate all default quantstats features\n",
    "    df_quantstats = generate_all_default_quantstats_features(data)\n",
    "\n",
    "    # Concatenate both manually and automatically generated features\n",
    "    data = pd.concat([data, df_quantstats], axis='columns').fillna(method='pad')\n",
    "\n",
    "    # Remove potential column duplicates\n",
    "    data = data.loc[:,~data.columns.duplicated()]\n",
    "\n",
    "    # A lot of indicators generate NaNs at the beginning of DataFrames, so remove them\n",
    "    data = data.iloc[200:]\n",
    "    data = data.reset_index(drop=True)\n",
    "\n",
    "    data = fix_dataset_inconsistencies(data, fill_value=None)\n",
    "    return data"
   ]
  },
  {
   "cell_type": "code",
   "execution_count": 6,
   "metadata": {},
   "outputs": [
    {
     "data": {
      "text/html": [
       "<div>\n",
       "<style scoped>\n",
       "    .dataframe tbody tr th:only-of-type {\n",
       "        vertical-align: middle;\n",
       "    }\n",
       "\n",
       "    .dataframe tbody tr th {\n",
       "        vertical-align: top;\n",
       "    }\n",
       "\n",
       "    .dataframe thead th {\n",
       "        text-align: right;\n",
       "    }\n",
       "</style>\n",
       "<table border=\"1\" class=\"dataframe\">\n",
       "  <thead>\n",
       "    <tr style=\"text-align: right;\">\n",
       "      <th></th>\n",
       "      <th>date</th>\n",
       "      <th>open</th>\n",
       "      <th>high</th>\n",
       "      <th>low</th>\n",
       "      <th>close</th>\n",
       "      <th>volume</th>\n",
       "    </tr>\n",
       "  </thead>\n",
       "  <tbody>\n",
       "    <tr>\n",
       "      <th>0</th>\n",
       "      <td>2018-05-15 06:00 AM</td>\n",
       "      <td>8723.8</td>\n",
       "      <td>8793.000000</td>\n",
       "      <td>8714.900000</td>\n",
       "      <td>8739.000000</td>\n",
       "      <td>8988053</td>\n",
       "    </tr>\n",
       "    <tr>\n",
       "      <th>1</th>\n",
       "      <td>2018-05-15 07:00 AM</td>\n",
       "      <td>8739.0</td>\n",
       "      <td>8754.800000</td>\n",
       "      <td>8719.300000</td>\n",
       "      <td>8743.000000</td>\n",
       "      <td>2288904</td>\n",
       "    </tr>\n",
       "    <tr>\n",
       "      <th>2</th>\n",
       "      <td>2018-05-15 08:00 AM</td>\n",
       "      <td>8743.0</td>\n",
       "      <td>8743.100000</td>\n",
       "      <td>8653.200000</td>\n",
       "      <td>8723.700000</td>\n",
       "      <td>8891773</td>\n",
       "    </tr>\n",
       "    <tr>\n",
       "      <th>3</th>\n",
       "      <td>2018-05-15 09:00 AM</td>\n",
       "      <td>8723.7</td>\n",
       "      <td>8737.800000</td>\n",
       "      <td>8701.200000</td>\n",
       "      <td>8708.100000</td>\n",
       "      <td>2054868</td>\n",
       "    </tr>\n",
       "    <tr>\n",
       "      <th>4</th>\n",
       "      <td>2018-05-15 10:00 AM</td>\n",
       "      <td>8708.1</td>\n",
       "      <td>8855.700000</td>\n",
       "      <td>8695.800000</td>\n",
       "      <td>8784.400000</td>\n",
       "      <td>17309722</td>\n",
       "    </tr>\n",
       "    <tr>\n",
       "      <th>...</th>\n",
       "      <td>...</td>\n",
       "      <td>...</td>\n",
       "      <td>...</td>\n",
       "      <td>...</td>\n",
       "      <td>...</td>\n",
       "      <td>...</td>\n",
       "    </tr>\n",
       "    <tr>\n",
       "      <th>33033</th>\n",
       "      <td>2022-02-19 08:00 PM</td>\n",
       "      <td>40000.0</td>\n",
       "      <td>40139.000000</td>\n",
       "      <td>39976.000000</td>\n",
       "      <td>40114.000000</td>\n",
       "      <td>1309665</td>\n",
       "    </tr>\n",
       "    <tr>\n",
       "      <th>33034</th>\n",
       "      <td>2022-02-19 09:00 PM</td>\n",
       "      <td>40110.0</td>\n",
       "      <td>40110.000000</td>\n",
       "      <td>39818.000000</td>\n",
       "      <td>39966.000000</td>\n",
       "      <td>1364890</td>\n",
       "    </tr>\n",
       "    <tr>\n",
       "      <th>33035</th>\n",
       "      <td>2022-02-19 10:00 PM</td>\n",
       "      <td>39966.0</td>\n",
       "      <td>40087.000000</td>\n",
       "      <td>39916.000000</td>\n",
       "      <td>40071.000000</td>\n",
       "      <td>840756</td>\n",
       "    </tr>\n",
       "    <tr>\n",
       "      <th>33036</th>\n",
       "      <td>2022-02-19 11:00 PM</td>\n",
       "      <td>40072.0</td>\n",
       "      <td>40179.000000</td>\n",
       "      <td>40012.000000</td>\n",
       "      <td>40128.000000</td>\n",
       "      <td>2941451</td>\n",
       "    </tr>\n",
       "    <tr>\n",
       "      <th>33037</th>\n",
       "      <td>2022-02-20 12:00 AM</td>\n",
       "      <td>40130.0</td>\n",
       "      <td>40164.054768</td>\n",
       "      <td>40072.282281</td>\n",
       "      <td>40072.282281</td>\n",
       "      <td>222401</td>\n",
       "    </tr>\n",
       "  </tbody>\n",
       "</table>\n",
       "<p>33038 rows × 6 columns</p>\n",
       "</div>"
      ],
      "text/plain": [
       "                      date     open          high           low         close  \\\n",
       "0      2018-05-15 06:00 AM   8723.8   8793.000000   8714.900000   8739.000000   \n",
       "1      2018-05-15 07:00 AM   8739.0   8754.800000   8719.300000   8743.000000   \n",
       "2      2018-05-15 08:00 AM   8743.0   8743.100000   8653.200000   8723.700000   \n",
       "3      2018-05-15 09:00 AM   8723.7   8737.800000   8701.200000   8708.100000   \n",
       "4      2018-05-15 10:00 AM   8708.1   8855.700000   8695.800000   8784.400000   \n",
       "...                    ...      ...           ...           ...           ...   \n",
       "33033  2022-02-19 08:00 PM  40000.0  40139.000000  39976.000000  40114.000000   \n",
       "33034  2022-02-19 09:00 PM  40110.0  40110.000000  39818.000000  39966.000000   \n",
       "33035  2022-02-19 10:00 PM  39966.0  40087.000000  39916.000000  40071.000000   \n",
       "33036  2022-02-19 11:00 PM  40072.0  40179.000000  40012.000000  40128.000000   \n",
       "33037  2022-02-20 12:00 AM  40130.0  40164.054768  40072.282281  40072.282281   \n",
       "\n",
       "         volume  \n",
       "0       8988053  \n",
       "1       2288904  \n",
       "2       8891773  \n",
       "3       2054868  \n",
       "4      17309722  \n",
       "...         ...  \n",
       "33033   1309665  \n",
       "33034   1364890  \n",
       "33035    840756  \n",
       "33036   2941451  \n",
       "33037    222401  \n",
       "\n",
       "[33038 rows x 6 columns]"
      ]
     },
     "execution_count": 6,
     "metadata": {},
     "output_type": "execute_result"
    }
   ],
   "source": [
    "#data = generate_features(data)\n",
    "data"
   ]
  },
  {
   "cell_type": "markdown",
   "metadata": {},
   "source": [
    "## Remove features with low variance before splitting the dataset"
   ]
  },
  {
   "cell_type": "code",
   "execution_count": 7,
   "metadata": {},
   "outputs": [
    {
     "data": {
      "text/html": [
       "<div>\n",
       "<style scoped>\n",
       "    .dataframe tbody tr th:only-of-type {\n",
       "        vertical-align: middle;\n",
       "    }\n",
       "\n",
       "    .dataframe tbody tr th {\n",
       "        vertical-align: top;\n",
       "    }\n",
       "\n",
       "    .dataframe thead th {\n",
       "        text-align: right;\n",
       "    }\n",
       "</style>\n",
       "<table border=\"1\" class=\"dataframe\">\n",
       "  <thead>\n",
       "    <tr style=\"text-align: right;\">\n",
       "      <th></th>\n",
       "      <th>date</th>\n",
       "      <th>open</th>\n",
       "      <th>high</th>\n",
       "      <th>low</th>\n",
       "      <th>close</th>\n",
       "      <th>volume</th>\n",
       "    </tr>\n",
       "  </thead>\n",
       "  <tbody>\n",
       "    <tr>\n",
       "      <th>0</th>\n",
       "      <td>2018-05-15 06:00 AM</td>\n",
       "      <td>8723.8</td>\n",
       "      <td>8793.000000</td>\n",
       "      <td>8714.900000</td>\n",
       "      <td>8739.000000</td>\n",
       "      <td>8988053</td>\n",
       "    </tr>\n",
       "    <tr>\n",
       "      <th>1</th>\n",
       "      <td>2018-05-15 07:00 AM</td>\n",
       "      <td>8739.0</td>\n",
       "      <td>8754.800000</td>\n",
       "      <td>8719.300000</td>\n",
       "      <td>8743.000000</td>\n",
       "      <td>2288904</td>\n",
       "    </tr>\n",
       "    <tr>\n",
       "      <th>2</th>\n",
       "      <td>2018-05-15 08:00 AM</td>\n",
       "      <td>8743.0</td>\n",
       "      <td>8743.100000</td>\n",
       "      <td>8653.200000</td>\n",
       "      <td>8723.700000</td>\n",
       "      <td>8891773</td>\n",
       "    </tr>\n",
       "    <tr>\n",
       "      <th>3</th>\n",
       "      <td>2018-05-15 09:00 AM</td>\n",
       "      <td>8723.7</td>\n",
       "      <td>8737.800000</td>\n",
       "      <td>8701.200000</td>\n",
       "      <td>8708.100000</td>\n",
       "      <td>2054868</td>\n",
       "    </tr>\n",
       "    <tr>\n",
       "      <th>4</th>\n",
       "      <td>2018-05-15 10:00 AM</td>\n",
       "      <td>8708.1</td>\n",
       "      <td>8855.700000</td>\n",
       "      <td>8695.800000</td>\n",
       "      <td>8784.400000</td>\n",
       "      <td>17309722</td>\n",
       "    </tr>\n",
       "    <tr>\n",
       "      <th>...</th>\n",
       "      <td>...</td>\n",
       "      <td>...</td>\n",
       "      <td>...</td>\n",
       "      <td>...</td>\n",
       "      <td>...</td>\n",
       "      <td>...</td>\n",
       "    </tr>\n",
       "    <tr>\n",
       "      <th>33033</th>\n",
       "      <td>2022-02-19 08:00 PM</td>\n",
       "      <td>40000.0</td>\n",
       "      <td>40139.000000</td>\n",
       "      <td>39976.000000</td>\n",
       "      <td>40114.000000</td>\n",
       "      <td>1309665</td>\n",
       "    </tr>\n",
       "    <tr>\n",
       "      <th>33034</th>\n",
       "      <td>2022-02-19 09:00 PM</td>\n",
       "      <td>40110.0</td>\n",
       "      <td>40110.000000</td>\n",
       "      <td>39818.000000</td>\n",
       "      <td>39966.000000</td>\n",
       "      <td>1364890</td>\n",
       "    </tr>\n",
       "    <tr>\n",
       "      <th>33035</th>\n",
       "      <td>2022-02-19 10:00 PM</td>\n",
       "      <td>39966.0</td>\n",
       "      <td>40087.000000</td>\n",
       "      <td>39916.000000</td>\n",
       "      <td>40071.000000</td>\n",
       "      <td>840756</td>\n",
       "    </tr>\n",
       "    <tr>\n",
       "      <th>33036</th>\n",
       "      <td>2022-02-19 11:00 PM</td>\n",
       "      <td>40072.0</td>\n",
       "      <td>40179.000000</td>\n",
       "      <td>40012.000000</td>\n",
       "      <td>40128.000000</td>\n",
       "      <td>2941451</td>\n",
       "    </tr>\n",
       "    <tr>\n",
       "      <th>33037</th>\n",
       "      <td>2022-02-20 12:00 AM</td>\n",
       "      <td>40130.0</td>\n",
       "      <td>40164.054768</td>\n",
       "      <td>40072.282281</td>\n",
       "      <td>40072.282281</td>\n",
       "      <td>222401</td>\n",
       "    </tr>\n",
       "  </tbody>\n",
       "</table>\n",
       "<p>33038 rows × 6 columns</p>\n",
       "</div>"
      ],
      "text/plain": [
       "                      date     open          high           low         close  \\\n",
       "0      2018-05-15 06:00 AM   8723.8   8793.000000   8714.900000   8739.000000   \n",
       "1      2018-05-15 07:00 AM   8739.0   8754.800000   8719.300000   8743.000000   \n",
       "2      2018-05-15 08:00 AM   8743.0   8743.100000   8653.200000   8723.700000   \n",
       "3      2018-05-15 09:00 AM   8723.7   8737.800000   8701.200000   8708.100000   \n",
       "4      2018-05-15 10:00 AM   8708.1   8855.700000   8695.800000   8784.400000   \n",
       "...                    ...      ...           ...           ...           ...   \n",
       "33033  2022-02-19 08:00 PM  40000.0  40139.000000  39976.000000  40114.000000   \n",
       "33034  2022-02-19 09:00 PM  40110.0  40110.000000  39818.000000  39966.000000   \n",
       "33035  2022-02-19 10:00 PM  39966.0  40087.000000  39916.000000  40071.000000   \n",
       "33036  2022-02-19 11:00 PM  40072.0  40179.000000  40012.000000  40128.000000   \n",
       "33037  2022-02-20 12:00 AM  40130.0  40164.054768  40072.282281  40072.282281   \n",
       "\n",
       "         volume  \n",
       "0       8988053  \n",
       "1       2288904  \n",
       "2       8891773  \n",
       "3       2054868  \n",
       "4      17309722  \n",
       "...         ...  \n",
       "33033   1309665  \n",
       "33034   1364890  \n",
       "33035    840756  \n",
       "33036   2941451  \n",
       "33037    222401  \n",
       "\n",
       "[33038 rows x 6 columns]"
      ]
     },
     "execution_count": 7,
     "metadata": {},
     "output_type": "execute_result"
    }
   ],
   "source": [
    "from sklearn.feature_selection import VarianceThreshold\n",
    "sel = VarianceThreshold(threshold=(.8 * (1 - .8)))\n",
    "date = data[['date']].copy()\n",
    "data = data.drop(columns=['date'])\n",
    "sel.fit(data)\n",
    "data[data.columns[sel.get_support(indices=True)]]\n",
    "data = pd.concat([date, data], axis='columns')\n",
    "data"
   ]
  },
  {
   "cell_type": "markdown",
   "metadata": {},
   "source": [
    "## Split dataset"
   ]
  },
  {
   "cell_type": "code",
   "execution_count": 8,
   "metadata": {},
   "outputs": [],
   "source": [
    "from sklearn.model_selection import train_test_split\n",
    "\n",
    "def split_data(data):\n",
    "    X = data.copy()\n",
    "    y = X['close'].pct_change()\n",
    "\n",
    "    X_train_test, X_valid, y_train_test, y_valid = \\\n",
    "        train_test_split(data, data['close'].pct_change(), train_size=0.67, test_size=0.33, shuffle=False)\n",
    "\n",
    "    X_train, X_test, y_train, y_test = \\\n",
    "        train_test_split(X_train_test, y_train_test, train_size=0.50, test_size=0.50, shuffle=False)\n",
    "\n",
    "    return X_train, X_test, X_valid, y_train, y_test, y_valid"
   ]
  },
  {
   "cell_type": "code",
   "execution_count": 9,
   "metadata": {},
   "outputs": [],
   "source": [
    "X_train, X_test, X_valid, y_train, y_test, y_valid = \\\n",
    "    split_data(data)\n",
    "\n",
    "import os\n",
    "cwd = os.getcwd()\n",
    "train_csv = os.path.join(cwd, 'train.csv')\n",
    "test_csv = os.path.join(cwd, 'test.csv')\n",
    "valid_csv = os.path.join(cwd, 'valid.csv')\n",
    "X_train.to_csv(train_csv, index=False)\n",
    "X_test.to_csv(test_csv, index=False)\n",
    "X_valid.to_csv(valid_csv, index=False)"
   ]
  },
  {
   "cell_type": "markdown",
   "metadata": {},
   "source": [
    "## Get dataset statistics"
   ]
  },
  {
   "cell_type": "code",
   "execution_count": 10,
   "metadata": {},
   "outputs": [
    {
     "data": {
      "text/html": [
       "<div>\n",
       "<style scoped>\n",
       "    .dataframe tbody tr th:only-of-type {\n",
       "        vertical-align: middle;\n",
       "    }\n",
       "\n",
       "    .dataframe tbody tr th {\n",
       "        vertical-align: top;\n",
       "    }\n",
       "\n",
       "    .dataframe thead th {\n",
       "        text-align: right;\n",
       "    }\n",
       "</style>\n",
       "<table border=\"1\" class=\"dataframe\">\n",
       "  <thead>\n",
       "    <tr style=\"text-align: right;\">\n",
       "      <th></th>\n",
       "      <th>date</th>\n",
       "      <th>open</th>\n",
       "      <th>high</th>\n",
       "      <th>low</th>\n",
       "      <th>close</th>\n",
       "      <th>volume</th>\n",
       "    </tr>\n",
       "  </thead>\n",
       "  <tbody>\n",
       "    <tr>\n",
       "      <th>count</th>\n",
       "      <td>33038</td>\n",
       "      <td>33038.000000</td>\n",
       "      <td>33038.000000</td>\n",
       "      <td>33038.000000</td>\n",
       "      <td>33038.000000</td>\n",
       "      <td>3.303800e+04</td>\n",
       "    </tr>\n",
       "    <tr>\n",
       "      <th>unique</th>\n",
       "      <td>33037</td>\n",
       "      <td>NaN</td>\n",
       "      <td>NaN</td>\n",
       "      <td>NaN</td>\n",
       "      <td>NaN</td>\n",
       "      <td>NaN</td>\n",
       "    </tr>\n",
       "    <tr>\n",
       "      <th>top</th>\n",
       "      <td>2020-11-10 11:00 PM</td>\n",
       "      <td>NaN</td>\n",
       "      <td>NaN</td>\n",
       "      <td>NaN</td>\n",
       "      <td>NaN</td>\n",
       "      <td>NaN</td>\n",
       "    </tr>\n",
       "    <tr>\n",
       "      <th>freq</th>\n",
       "      <td>2</td>\n",
       "      <td>NaN</td>\n",
       "      <td>NaN</td>\n",
       "      <td>NaN</td>\n",
       "      <td>NaN</td>\n",
       "      <td>NaN</td>\n",
       "    </tr>\n",
       "    <tr>\n",
       "      <th>mean</th>\n",
       "      <td>NaN</td>\n",
       "      <td>20018.019596</td>\n",
       "      <td>20125.900952</td>\n",
       "      <td>19902.725127</td>\n",
       "      <td>20019.004573</td>\n",
       "      <td>7.589617e+06</td>\n",
       "    </tr>\n",
       "    <tr>\n",
       "      <th>std</th>\n",
       "      <td>NaN</td>\n",
       "      <td>18516.489851</td>\n",
       "      <td>18622.846826</td>\n",
       "      <td>18402.642568</td>\n",
       "      <td>18516.776394</td>\n",
       "      <td>1.465729e+07</td>\n",
       "    </tr>\n",
       "    <tr>\n",
       "      <th>min</th>\n",
       "      <td>NaN</td>\n",
       "      <td>3229.800000</td>\n",
       "      <td>3247.100000</td>\n",
       "      <td>3215.200000</td>\n",
       "      <td>3229.800000</td>\n",
       "      <td>0.000000e+00</td>\n",
       "    </tr>\n",
       "    <tr>\n",
       "      <th>25%</th>\n",
       "      <td>NaN</td>\n",
       "      <td>6989.725000</td>\n",
       "      <td>7025.300000</td>\n",
       "      <td>6950.025000</td>\n",
       "      <td>6989.725000</td>\n",
       "      <td>1.205956e+06</td>\n",
       "    </tr>\n",
       "    <tr>\n",
       "      <th>50%</th>\n",
       "      <td>NaN</td>\n",
       "      <td>9673.700000</td>\n",
       "      <td>9708.020000</td>\n",
       "      <td>9635.200000</td>\n",
       "      <td>9673.985000</td>\n",
       "      <td>3.203713e+06</td>\n",
       "    </tr>\n",
       "    <tr>\n",
       "      <th>75%</th>\n",
       "      <td>NaN</td>\n",
       "      <td>36022.744350</td>\n",
       "      <td>36302.000000</td>\n",
       "      <td>35711.000000</td>\n",
       "      <td>36022.500000</td>\n",
       "      <td>8.255541e+06</td>\n",
       "    </tr>\n",
       "    <tr>\n",
       "      <th>max</th>\n",
       "      <td>NaN</td>\n",
       "      <td>68601.000000</td>\n",
       "      <td>68958.000000</td>\n",
       "      <td>68450.000000</td>\n",
       "      <td>68601.000000</td>\n",
       "      <td>4.868595e+08</td>\n",
       "    </tr>\n",
       "  </tbody>\n",
       "</table>\n",
       "</div>"
      ],
      "text/plain": [
       "                       date          open          high           low  \\\n",
       "count                 33038  33038.000000  33038.000000  33038.000000   \n",
       "unique                33037           NaN           NaN           NaN   \n",
       "top     2020-11-10 11:00 PM           NaN           NaN           NaN   \n",
       "freq                      2           NaN           NaN           NaN   \n",
       "mean                    NaN  20018.019596  20125.900952  19902.725127   \n",
       "std                     NaN  18516.489851  18622.846826  18402.642568   \n",
       "min                     NaN   3229.800000   3247.100000   3215.200000   \n",
       "25%                     NaN   6989.725000   7025.300000   6950.025000   \n",
       "50%                     NaN   9673.700000   9708.020000   9635.200000   \n",
       "75%                     NaN  36022.744350  36302.000000  35711.000000   \n",
       "max                     NaN  68601.000000  68958.000000  68450.000000   \n",
       "\n",
       "               close        volume  \n",
       "count   33038.000000  3.303800e+04  \n",
       "unique           NaN           NaN  \n",
       "top              NaN           NaN  \n",
       "freq             NaN           NaN  \n",
       "mean    20019.004573  7.589617e+06  \n",
       "std     18516.776394  1.465729e+07  \n",
       "min      3229.800000  0.000000e+00  \n",
       "25%      6989.725000  1.205956e+06  \n",
       "50%      9673.985000  3.203713e+06  \n",
       "75%     36022.500000  8.255541e+06  \n",
       "max     68601.000000  4.868595e+08  "
      ]
     },
     "execution_count": 10,
     "metadata": {},
     "output_type": "execute_result"
    }
   ],
   "source": [
    "from scipy.stats import iqr\n",
    "\n",
    "def estimate_outliers(data):\n",
    "    return iqr(data) * 1.5\n",
    "\n",
    "def estimate_percent_gains(data, column='close'):\n",
    "    returns = get_returns(data, column=column)\n",
    "    gains = estimate_outliers(returns)\n",
    "    return gains\n",
    "\n",
    "def get_returns(data, column='close'):\n",
    "    return fix_dataset_inconsistencies(data[[column]].pct_change(), fill_value=0)\n",
    "\n",
    "def precalculate_ground_truths(data, column='close', threshold=None):\n",
    "    returns = get_returns(data, column=column)\n",
    "    gains = estimate_outliers(returns) if threshold is None else threshold\n",
    "    binary_gains = (returns[column] > gains).astype(int)\n",
    "    return binary_gains\n",
    "\n",
    "def is_null(data):\n",
    "    return data.isnull().sum().sum() > 0\n",
    "\n",
    "def is_sparse(data, column='close'):\n",
    "    binary_gains = precalculate_ground_truths(data, column=column)\n",
    "    bins = [n * (binary_gains.shape[0] // n_bins) for n in range(n_bins)]\n",
    "    bins += [binary_gains.shape[0]]\n",
    "    bins = [binary_gains.iloc[bins[n]:bins[n + 1]] for n in range(n_bins)]\n",
    "    return all([bin.astype(bool).any() for bin in bins])\n",
    "\n",
    "def is_data_predictible(data, column):\n",
    "    return not is_null(data) & is_sparse(data, column)\n",
    "\n",
    "data.describe(include='all')"
   ]
  },
  {
   "cell_type": "markdown",
   "metadata": {},
   "source": [
    "## Evaluate outlier sparsity of the data"
   ]
  },
  {
   "cell_type": "code",
   "execution_count": 11,
   "metadata": {},
   "outputs": [
    {
     "data": {
      "image/png": "[encoded data removed]",
      "text/plain": [
       "<Figure size 432x288 with 1 Axes>"
      ]
     },
     "metadata": {
      "needs_background": "light"
     },
     "output_type": "display_data"
    },
    {
     "data": {
      "text/plain": [
       "True"
      ]
     },
     "execution_count": 11,
     "metadata": {},
     "output_type": "execute_result"
    }
   ],
   "source": [
    "import matplotlib.pyplot as plt\n",
    "plt.plot(get_returns(data, column='close'))\n",
    "plt.show()\n",
    "is_data_predictible(data, 'close')"
   ]
  },
  {
   "cell_type": "markdown",
   "metadata": {},
   "source": [
    "## Percentage of the dataset generating rewards (keep between 5% to 15% or just rely on is_data_predictible())"
   ]
  },
  {
   "cell_type": "code",
   "execution_count": 12,
   "metadata": {},
   "outputs": [
    {
     "data": {
      "image/png": "[encoded data removed]",
      "text/plain": [
       "<Figure size 432x288 with 1 Axes>"
      ]
     },
     "metadata": {
      "needs_background": "light"
     },
     "output_type": "display_data"
    },
    {
     "name": "stdout",
     "output_type": "stream",
     "text": [
      "8.18%\n"
     ]
    }
   ],
   "source": [
    "plt.plot(precalculate_ground_truths(data, column='close').iloc[:1000])\n",
    "plt.show()\n",
    "percent_rewardable = str(round(100 + precalculate_ground_truths(data, column='close').value_counts().pct_change().iloc[-1] * 100, 2)) + '%'\n",
    "print(percent_rewardable)"
   ]
  },
  {
   "cell_type": "markdown",
   "metadata": {},
   "source": [
    "## Threshold to pass to AnomalousProfit reward scheme"
   ]
  },
  {
   "cell_type": "code",
   "execution_count": 13,
   "metadata": {},
   "outputs": [
    {
     "data": {
      "text/plain": [
       "0.007156155327167596"
      ]
     },
     "execution_count": 13,
     "metadata": {},
     "output_type": "execute_result"
    }
   ],
   "source": [
    "X_train_test = pd.concat([X_train, X_test], axis='index')\n",
    "#threshold = estimate_percent_gains(X_train_test, 'close')\n",
    "threshold = estimate_percent_gains(X_train, 'close')\n",
    "threshold"
   ]
  },
  {
   "cell_type": "markdown",
   "metadata": {},
   "source": [
    "## Implement basic feature engineering"
   ]
  },
  {
   "cell_type": "code",
   "execution_count": 14,
   "metadata": {},
   "outputs": [],
   "source": [
    "from sklearn.ensemble import RandomForestClassifier\n",
    "from sklearn.metrics import roc_auc_score\n",
    "\n",
    "from feature_engine.selection import SelectBySingleFeaturePerformance"
   ]
  },
  {
   "cell_type": "code",
   "execution_count": 15,
   "metadata": {},
   "outputs": [
    {
     "data": {
      "text/plain": [
       "SelectBySingleFeaturePerformance(cv=5,\n",
       "                                 estimator=RandomForestClassifier(n_jobs=6,\n",
       "                                                                  random_state=1337),\n",
       "                                 threshold=0.5)"
      ]
     },
     "execution_count": 15,
     "metadata": {},
     "output_type": "execute_result"
    }
   ],
   "source": [
    "rf = RandomForestClassifier(n_estimators=100, \n",
    "                            random_state=seed, \n",
    "                            n_jobs=6)\n",
    "\n",
    "sel = SelectBySingleFeaturePerformance(variables=None, \n",
    "                                       estimator=rf, \n",
    "                                       scoring=\"roc_auc\", \n",
    "                                       cv=5, \n",
    "                                       threshold=0.5)\n",
    "\n",
    "sel.fit(X_train, precalculate_ground_truths(X_train, column='close'))"
   ]
  },
  {
   "cell_type": "code",
   "execution_count": 16,
   "metadata": {},
   "outputs": [
    {
     "data": {
      "text/plain": [
       "volume    0.659456\n",
       "close     0.441434\n",
       "open      0.437235\n",
       "high      0.432563\n",
       "low       0.412375\n",
       "dtype: float64"
      ]
     },
     "execution_count": 16,
     "metadata": {},
     "output_type": "execute_result"
    }
   ],
   "source": [
    "feature_performance = pd.Series(sel.feature_performance_).sort_values(ascending=False)\n",
    "feature_performance"
   ]
  },
  {
   "cell_type": "code",
   "execution_count": 17,
   "metadata": {},
   "outputs": [
    {
     "data": {
      "text/plain": [
       "Text(0, 0.5, 'roc-auc')"
      ]
     },
     "execution_count": 17,
     "metadata": {},
     "output_type": "execute_result"
    },
    {
     "data": {
      "image/png": "[encoded data removed]",
      "text/plain": [
       "<Figure size 1440x360 with 1 Axes>"
      ]
     },
     "metadata": {
      "needs_background": "light"
     },
     "output_type": "display_data"
    }
   ],
   "source": [
    "feature_performance.plot.bar(figsize=(20, 5))\n",
    "plt.title('Performance of ML models trained with individual features')\n",
    "plt.ylabel('roc-auc')"
   ]
  },
  {
   "cell_type": "code",
   "execution_count": 18,
   "metadata": {},
   "outputs": [
    {
     "data": {
      "text/plain": [
       "['open', 'high', 'low', 'close']"
      ]
     },
     "execution_count": 18,
     "metadata": {},
     "output_type": "execute_result"
    }
   ],
   "source": [
    "features_to_drop = sel.features_to_drop_\n",
    "features_to_drop"
   ]
  },
  {
   "cell_type": "code",
   "execution_count": 19,
   "metadata": {},
   "outputs": [
    {
     "data": {
      "text/plain": [
       "0"
      ]
     },
     "execution_count": 19,
     "metadata": {},
     "output_type": "execute_result"
    }
   ],
   "source": [
    "to_drop = list(set(features_to_drop) - set(['open', 'high', 'low', 'close', 'volume']))\n",
    "len(to_drop)"
   ]
  },
  {
   "cell_type": "code",
   "execution_count": 20,
   "metadata": {},
   "outputs": [
    {
     "data": {
      "text/plain": [
       "((11067, 6), (11068, 6), (10903, 6))"
      ]
     },
     "execution_count": 20,
     "metadata": {},
     "output_type": "execute_result"
    }
   ],
   "source": [
    "X_train = X_train.drop(columns=to_drop)\n",
    "X_test = X_test.drop(columns=to_drop)\n",
    "X_valid = X_valid.drop(columns=to_drop)\n",
    "\n",
    "X_train.shape, X_test.shape, X_valid.shape"
   ]
  },
  {
   "cell_type": "code",
   "execution_count": 21,
   "metadata": {},
   "outputs": [
    {
     "data": {
      "text/plain": [
       "['date', 'open', 'high', 'low', 'close', 'volume']"
      ]
     },
     "execution_count": 21,
     "metadata": {},
     "output_type": "execute_result"
    }
   ],
   "source": [
    "X_train.columns.tolist()"
   ]
  },
  {
   "cell_type": "markdown",
   "metadata": {},
   "source": [
    "## Normalize the dataset subsets to make the model converge faster"
   ]
  },
  {
   "cell_type": "code",
   "execution_count": 22,
   "metadata": {},
   "outputs": [],
   "source": [
    "from sklearn.preprocessing import MinMaxScaler, RobustScaler, StandardScaler\n",
    "\n",
    "scaler_type = MinMaxScaler\n",
    "\n",
    "def get_feature_scalers(X, scaler_type=scaler_type):\n",
    "    scalers = []\n",
    "    for name in list(X.columns[X.columns != 'date']):\n",
    "        scalers.append(scaler_type().fit(X[name].values.reshape(-1, 1)))\n",
    "    return scalers\n",
    "\n",
    "def get_scaler_transforms(X, scalers):\n",
    "    X_scaled = []\n",
    "    for name, scaler in zip(list(X.columns[X.columns != 'date']), scalers):\n",
    "        X_scaled.append(scaler.transform(X[name].values.reshape(-1, 1)))\n",
    "    X_scaled = pd.concat([pd.DataFrame(column, columns=[name]) for name, column in \\\n",
    "                          zip(list(X.columns[X.columns != 'date']), X_scaled)], axis='columns')\n",
    "    return X_scaled\n",
    "\n",
    "def normalize_data(X_train, X_test, X_valid):\n",
    "    X_train_test = pd.concat([X_train, X_test], axis='index')\n",
    "    X_train_test_valid = pd.concat([X_train_test, X_valid], axis='index')\n",
    "\n",
    "    X_train_test_dates = X_train_test[['date']]\n",
    "    X_train_test_valid_dates = X_train_test_valid[['date']]\n",
    "\n",
    "    X_train_test = X_train_test.drop(columns=['date'])\n",
    "    X_train_test_valid = X_train_test_valid.drop(columns=['date'])\n",
    "\n",
    "    train_test_scalers = \\\n",
    "        get_feature_scalers(X_train_test, \n",
    "                            scaler_type=scaler_type)\n",
    "    train_test_valid_scalers = \\\n",
    "        get_feature_scalers(X_train_test_valid, \n",
    "                            scaler_type=scaler_type)\n",
    "\n",
    "    X_train_test_scaled = \\\n",
    "        get_scaler_transforms(X_train_test, \n",
    "                              train_test_scalers)\n",
    "    X_train_test_valid_scaled = \\\n",
    "        get_scaler_transforms(X_train_test_valid, \n",
    "                              train_test_scalers)\n",
    "    X_train_test_valid_scaled_leaking = \\\n",
    "        get_scaler_transforms(X_train_test_valid, \n",
    "                              train_test_valid_scalers)\n",
    "\n",
    "    X_train_test_scaled = \\\n",
    "        pd.concat([X_train_test_dates, \n",
    "                   X_train_test_scaled], \n",
    "                  axis='columns')\n",
    "    X_train_test_valid_scaled = \\\n",
    "        pd.concat([X_train_test_valid_dates, \n",
    "                   X_train_test_valid_scaled], \n",
    "                  axis='columns')\n",
    "    X_train_test_valid_scaled_leaking = \\\n",
    "        pd.concat([X_train_test_valid_dates, \n",
    "                   X_train_test_valid_scaled_leaking], \n",
    "                  axis='columns')\n",
    "\n",
    "    X_train_scaled = X_train_test_scaled.iloc[:X_train.shape[0]]\n",
    "    X_test_scaled = X_train_test_scaled.iloc[X_train.shape[0]:]\n",
    "    X_valid_scaled = X_train_test_valid_scaled.iloc[X_train_test.shape[0]:]\n",
    "    X_valid_scaled_leaking = X_train_test_valid_scaled_leaking.iloc[X_train_test.shape[0]:]\n",
    "\n",
    "    return (train_test_scalers, \n",
    "            train_test_valid_scalers, \n",
    "            X_train_scaled, \n",
    "            X_test_scaled, \n",
    "            X_valid_scaled, \n",
    "            X_valid_scaled_leaking)"
   ]
  },
  {
   "cell_type": "code",
   "execution_count": 23,
   "metadata": {},
   "outputs": [],
   "source": [
    "train_test_scalers, train_test_valid_scalers, X_train_scaled, X_test_scaled, X_valid_scaled, X_valid_scaled_leaking = \\\n",
    "    normalize_data(X_train, X_test, X_valid)"
   ]
  },
  {
   "cell_type": "markdown",
   "metadata": {},
   "source": [
    "## Write a reward scheme encouraging rare volatile upside trades"
   ]
  },
  {
   "cell_type": "code",
   "execution_count": 24,
   "metadata": {},
   "outputs": [],
   "source": [
    "from tensortrade.env.default.rewards import TensorTradeRewardScheme\n",
    "\n",
    "\n",
    "class AnomalousProfit(TensorTradeRewardScheme):\n",
    "    \"\"\"A simple reward scheme that rewards the agent for exceeding a \n",
    "    precalculated percentage in the net worth.\n",
    "\n",
    "    Parameters\n",
    "    ----------\n",
    "    threshold : float\n",
    "        The minimum value to exceed in order to get the reward.\n",
    "\n",
    "    Attributes\n",
    "    ----------\n",
    "    threshold : float\n",
    "        The minimum value to exceed in order to get the reward.\n",
    "    \"\"\"\n",
    "\n",
    "    registered_name = \"anomalous\"\n",
    "\n",
    "    def __init__(self, threshold: float = 0.02, window_size: int = 1):\n",
    "        self._window_size = self.default('window_size', window_size)\n",
    "        self._threshold = self.default('threshold', threshold)\n",
    "\n",
    "    def get_reward(self, portfolio: 'Portfolio') -> float:\n",
    "        \"\"\"Rewards the agent for incremental increases in net worth over a\n",
    "        sliding window.\n",
    "\n",
    "        Parameters\n",
    "        ----------\n",
    "        portfolio : `Portfolio`\n",
    "            The portfolio being used by the environment.\n",
    "\n",
    "        Returns\n",
    "        -------\n",
    "        int\n",
    "            Whether the last percent change in net worth exceeds the predefined \n",
    "            `threshold`.\n",
    "        \"\"\"\n",
    "        performance = pd.DataFrame.from_dict(portfolio.performance).T\n",
    "        current_step = performance.shape[0]\n",
    "        if current_step > 1:\n",
    "            # Hint: make it cumulative.\n",
    "            net_worths = performance['net_worth']\n",
    "            ground_truths = precalculate_ground_truths(performance, \n",
    "                                                       column='net_worth', \n",
    "                                                       threshold=self._threshold)\n",
    "            reward_factor = 2.0 * ground_truths - 1.0\n",
    "            #return net_worths.iloc[-1] / net_worths.iloc[-min(current_step, self._window_size + 1)] - 1.0\n",
    "            return (reward_factor * net_worths.abs()).iloc[-1]\n",
    "\n",
    "        else:\n",
    "            return 0.0"
   ]
  },
  {
   "cell_type": "code",
   "execution_count": 25,
   "metadata": {},
   "outputs": [],
   "source": [
    "class PenalizedProfit(TensorTradeRewardScheme):\n",
    "    \"\"\"A reward scheme which penalizes net worth loss and \n",
    "    decays with the time spent.\n",
    "\n",
    "    Parameters\n",
    "    ----------\n",
    "    cash_penalty_proportion : float\n",
    "        cash_penalty_proportion\n",
    "\n",
    "    Attributes\n",
    "    ----------\n",
    "    cash_penalty_proportion : float\n",
    "        cash_penalty_proportion.\n",
    "    \"\"\"\n",
    "\n",
    "    registered_name = \"penalized\"\n",
    "\n",
    "    def __init__(self, cash_penalty_proportion: float = 0.10):\n",
    "        self._cash_penalty_proportion = \\\n",
    "            self.default('cash_penalty_proportion', \n",
    "                         cash_penalty_proportion)\n",
    "\n",
    "    def get_reward(self, portfolio: 'Portfolio') -> float:\n",
    "        \"\"\"Rewards the agent for gaining net worth while holding the asset.\n",
    "\n",
    "        Parameters\n",
    "        ----------\n",
    "        portfolio : `Portfolio`\n",
    "            The portfolio being used by the environment.\n",
    "\n",
    "        Returns\n",
    "        -------\n",
    "        int\n",
    "            A penalized reward.\n",
    "        \"\"\"\n",
    "        performance = pd.DataFrame.from_dict(portfolio.performance).T\n",
    "        current_step = performance.shape[0]\n",
    "        if current_step > 1:\n",
    "            initial_amount = portfolio.initial_net_worth\n",
    "            net_worth = performance['net_worth'].iloc[-1]\n",
    "            cash_worth = performance['bitstamp:/USD:/total'].iloc[-1]\n",
    "            cash_penalty = max(0, (net_worth * self._cash_penalty_proportion - cash_worth))\n",
    "            net_worth -= cash_penalty\n",
    "            reward = (net_worth / initial_amount) - 1\n",
    "            reward /= current_step\n",
    "            return reward\n",
    "        else:\n",
    "            return 0.0"
   ]
  },
  {
   "cell_type": "markdown",
   "metadata": {},
   "source": [
    "## TODO: implement tuning"
   ]
  },
  {
   "cell_type": "code",
   "execution_count": null,
   "metadata": {},
   "outputs": [],
   "source": []
  },
  {
   "cell_type": "markdown",
   "metadata": {},
   "source": [
    "## Setup Trading Environment"
   ]
  },
  {
   "cell_type": "code",
   "execution_count": 26,
   "metadata": {},
   "outputs": [],
   "source": [
    "import tensortrade.env.default as default\n",
    "\n",
    "#from tensortrade.agents import DQNAgent\n",
    "from tensortrade.feed.core import DataFeed, Stream\n",
    "from tensortrade.feed.core.base import NameSpace\n",
    "from tensortrade.env.default.actions import BSH\n",
    "from tensortrade.env.default.rewards import RiskAdjustedReturns, SimpleProfit\n",
    "from tensortrade.oms.exchanges import Exchange, ExchangeOptions\n",
    "from tensortrade.oms.services.execution.simulated import execute_order\n",
    "from tensortrade.oms.instruments import USD, BTC, ETH\n",
    "from tensortrade.oms.wallets import Wallet, Portfolio\n",
    "from tensortrade.oms.orders import TradeType\n",
    "\n",
    "# TODO: adjust according to your commission percentage, if present\n",
    "commission = 0.001\n",
    "price = Stream.source(list(X_train[\"close\"]), \n",
    "                      dtype=\"float\").rename(\"USD-BTC\")\n",
    "#bitstamp_options = ExchangeOptions(commission=commission)\n",
    "#bitstamp = Exchange(\"bitstamp\", \n",
    "#                    service=execute_order, \n",
    "#                    options=bitstamp_options)(price)\n",
    "bitstamp = Exchange(\"bitstamp\", \n",
    "                    service=execute_order)(price)\n",
    "\n",
    "cash = Wallet(bitstamp, 50000 * USD)\n",
    "asset = Wallet(bitstamp, 0 * BTC)\n",
    "\n",
    "portfolio = Portfolio(USD, [cash, asset])\n",
    "\n",
    "with NameSpace(\"bitstamp\"):\n",
    "    features = [\n",
    "        Stream.source(list(X_train_scaled[c]), \n",
    "                      dtype=\"float\").rename(c) for c in X_train_scaled.columns[1:]\n",
    "        #Stream.source(list(X_train_scaled['lr_close']), dtype=\"float\").rename('lr_close')\n",
    "    ]\n",
    "\n",
    "feed = DataFeed(features)\n",
    "feed.compile()\n",
    "\n",
    "renderer_feed = DataFeed([\n",
    "    Stream.source(list(X_train[\"date\"])).rename(\"date\"),\n",
    "    Stream.source(list(X_train[\"open\"]), dtype=\"float\").rename(\"open\"),\n",
    "    Stream.source(list(X_train[\"high\"]), dtype=\"float\").rename(\"high\"),\n",
    "    Stream.source(list(X_train[\"low\"]), dtype=\"float\").rename(\"low\"),\n",
    "    Stream.source(list(X_train[\"close\"]), dtype=\"float\").rename(\"close\"), \n",
    "    Stream.source(list(X_train[\"volume\"]), dtype=\"float\").rename(\"volume\") \n",
    "])\n",
    "\n",
    "action_scheme = BSH(\n",
    "    cash=cash,\n",
    "    asset=asset\n",
    ")\n",
    "\n",
    "#reward_scheme = RiskAdjustedReturns(return_algorithm='sortino',\n",
    "#                                    window_size=30)\n",
    "\n",
    "#reward_scheme = SimpleProfit(window_size=30)\n",
    "\n",
    "reward_scheme = AnomalousProfit(threshold=threshold)\n",
    "\n",
    "#reward_scheme = PenalizedProfit(cash_penalty_proportion=0.1)\n",
    "\n",
    "env = default.create(\n",
    "    portfolio=portfolio,\n",
    "    action_scheme=action_scheme,\n",
    "    reward_scheme=reward_scheme,\n",
    "    feed=feed,\n",
    "    renderer_feed=renderer_feed,\n",
    "    renderer=default.renderers.PlotlyTradingChart(),\n",
    "    window_size=30\n",
    ")"
   ]
  },
  {
   "cell_type": "code",
   "execution_count": 27,
   "metadata": {},
   "outputs": [
    {
     "data": {
      "text/plain": [
       "{'internal': {'bitstamp:/USD-BTC': 8739.0,\n",
       "  'bitstamp:/USD:/free': 50000.0,\n",
       "  'bitstamp:/USD:/locked': 0.0,\n",
       "  'bitstamp:/USD:/total': 50000.0,\n",
       "  'bitstamp:/BTC:/free': 0.0,\n",
       "  'bitstamp:/BTC:/locked': 0.0,\n",
       "  'bitstamp:/BTC:/total': 0.0,\n",
       "  'bitstamp:/BTC:/worth': 0.0,\n",
       "  'net_worth': 50000.0},\n",
       " 'external': {'bitstamp:/open': 0.35165651083004756,\n",
       "  'bitstamp:/high': 0.35328929347237537,\n",
       "  'bitstamp:/low': 0.3538422935378439,\n",
       "  'bitstamp:/close': 0.3525617232596536,\n",
       "  'bitstamp:/volume': 0.0604746164979527},\n",
       " 'renderer': {'date': '2018-05-15 06:00 AM',\n",
       "  'open': 8723.8,\n",
       "  'high': 8793.0,\n",
       "  'low': 8714.9,\n",
       "  'close': 8739.0,\n",
       "  'volume': 8988053}}"
      ]
     },
     "execution_count": 27,
     "metadata": {},
     "output_type": "execute_result"
    }
   ],
   "source": [
    "env.observer.feed.next()"
   ]
  },
  {
   "cell_type": "markdown",
   "metadata": {},
   "source": [
    "## Setup and Train DQN Agent"
   ]
  },
  {
   "cell_type": "code",
   "execution_count": 28,
   "metadata": {},
   "outputs": [
    {
     "data": {
      "text/plain": [
       "242"
      ]
     },
     "execution_count": 28,
     "metadata": {},
     "output_type": "execute_result"
    }
   ],
   "source": [
    "def get_optimal_batch_size(window_size=30, n_steps=1000, batch_factor=4, stride=1):\n",
    "    \"\"\"\n",
    "    lookback = 30          # Days of past data (also named window_size).\n",
    "    batch_factor = 4       # batch_size = (sample_size - lookback - stride) // batch_factor\n",
    "    stride = 1             # Time series shift into the future.\n",
    "    \"\"\"\n",
    "    lookback = window_size\n",
    "    sample_size = n_steps\n",
    "    batch_size = ((sample_size - lookback - stride) // batch_factor)\n",
    "    return batch_size\n",
    "\n",
    "batch_size = get_optimal_batch_size(window_size=window_size, n_steps=n_steps, batch_factor=4)\n",
    "batch_size"
   ]
  },
  {
   "cell_type": "markdown",
   "metadata": {},
   "source": [
    "## Implement validation here"
   ]
  },
  {
   "cell_type": "code",
   "execution_count": null,
   "metadata": {},
   "outputs": [],
   "source": []
  },
  {
   "cell_type": "markdown",
   "metadata": {},
   "source": [
    "## Print basic quantstats report"
   ]
  },
  {
   "cell_type": "code",
   "execution_count": 29,
   "metadata": {},
   "outputs": [],
   "source": [
    "def print_quantstats_full_report(env, data, output='dqn_quantstats'):\n",
    "    performance = pd.DataFrame.from_dict(env.action_scheme.portfolio.performance, orient='index')\n",
    "    net_worth = performance['net_worth'].iloc[window_size:]\n",
    "    returns = net_worth.pct_change().iloc[1:]\n",
    "\n",
    "    # WARNING! The dates are fake and default parameters are used!\n",
    "    returns.index = pd.date_range(start=data['date'].iloc[0], freq='1d', periods=returns.size)\n",
    "\n",
    "    qs.reports.full(returns)\n",
    "    qs.reports.html(returns, output=output + '.html')\n",
    "\n",
    "#print_quantstats_full_report(env, data)"
   ]
  },
  {
   "cell_type": "code",
   "execution_count": null,
   "metadata": {},
   "outputs": [],
   "source": []
  },
  {
   "cell_type": "code",
   "execution_count": 30,
   "metadata": {},
   "outputs": [],
   "source": [
    "max_allowed_loss = 0.90\n",
    "min_periods = window_size  # Minimum of window_size\n",
    "\n",
    "observer = default.observers.TensorTradeObserver(\n",
    "    portfolio=portfolio,\n",
    "    feed=feed,\n",
    "    renderer_feed=renderer_feed,\n",
    "    window_size=window_size,\n",
    "    min_periods=min_periods\n",
    ")\n",
    "\n",
    "stopper = default.stoppers.MaxLossStopper(\n",
    "    max_allowed_loss=max_allowed_loss\n",
    ")\n",
    "\n",
    "informer = default.informers.TensorTradeInformer()\n",
    "\n",
    "renderer = default.renderers.PlotlyTradingChart()\n",
    "\n",
    "random_start_pct = 0.0"
   ]
  },
  {
   "cell_type": "code",
   "execution_count": 31,
   "metadata": {},
   "outputs": [],
   "source": [
    "env = default.create(\n",
    "    portfolio=portfolio,\n",
    "    action_scheme=action_scheme,\n",
    "    reward_scheme=reward_scheme,\n",
    "    observer=observer,\n",
    "    stopper=stopper,\n",
    "    informer=informer,\n",
    "    feed=feed,\n",
    "    renderer_feed=renderer_feed,\n",
    "    renderer=renderer,\n",
    "    min_periods=min_periods,\n",
    "    random_start_pct=random_start_pct,\n",
    "    window_size=30\n",
    ")"
   ]
  },
  {
   "cell_type": "code",
   "execution_count": 32,
   "metadata": {},
   "outputs": [
    {
     "data": {
      "text/plain": [
       "'\\ndef evaluate(model, num_episodes=100):\\n    \"\"\"\\n    Evaluate a RL agent\\n    :param model: (BaseRLModel object) the RL Agent\\n    :param num_episodes: (int) number of episodes to evaluate it\\n    :return: (float) Mean reward for the last num_episodes\\n    \"\"\"\\n    # This function will only work for a single Environment\\n    env = model.get_env()\\n    all_episode_rewards = []\\n    for i in range(num_episodes):\\n        episode_rewards = []\\n        done = False\\n        obs = env.reset()\\n        while not done:\\n            # _states are only useful when using LSTM policies\\n            action, _states = model.predict(obs)\\n            # here, action, rewards and dones are arrays\\n            # because we are using vectorized env\\n            obs, reward, done, info = env.step(action)\\n            episode_rewards.append(reward)\\n\\n        all_episode_rewards.append(sum(episode_rewards))\\n\\n    mean_episode_reward = np.mean(all_episode_rewards)\\n    print(\"Mean reward:\", mean_episode_reward, \"Num episodes:\", num_episodes)\\n\\n    return mean_episode_reward\\n'"
      ]
     },
     "execution_count": 32,
     "metadata": {},
     "output_type": "execute_result"
    }
   ],
   "source": [
    "'''\n",
    "def evaluate(model, num_episodes=100):\n",
    "    \"\"\"\n",
    "    Evaluate a RL agent\n",
    "    :param model: (BaseRLModel object) the RL Agent\n",
    "    :param num_episodes: (int) number of episodes to evaluate it\n",
    "    :return: (float) Mean reward for the last num_episodes\n",
    "    \"\"\"\n",
    "    # This function will only work for a single Environment\n",
    "    env = model.get_env()\n",
    "    all_episode_rewards = []\n",
    "    for i in range(num_episodes):\n",
    "        episode_rewards = []\n",
    "        done = False\n",
    "        obs = env.reset()\n",
    "        while not done:\n",
    "            # _states are only useful when using LSTM policies\n",
    "            action, _states = model.predict(obs)\n",
    "            # here, action, rewards and dones are arrays\n",
    "            # because we are using vectorized env\n",
    "            obs, reward, done, info = env.step(action)\n",
    "            episode_rewards.append(reward)\n",
    "\n",
    "        all_episode_rewards.append(sum(episode_rewards))\n",
    "\n",
    "    mean_episode_reward = np.mean(all_episode_rewards)\n",
    "    print(\"Mean reward:\", mean_episode_reward, \"Num episodes:\", num_episodes)\n",
    "\n",
    "    return mean_episode_reward\n",
    "'''"
   ]
  },
  {
   "cell_type": "code",
   "execution_count": 33,
   "metadata": {},
   "outputs": [],
   "source": [
    "def evaluate(model, \n",
    "             env=None, \n",
    "             n_eval_episodes=1, \n",
    "             n_eval_steps=100, \n",
    "             render_episode_count=1, \n",
    "             render_step_count=10, \n",
    "             render_episodes=False, \n",
    "             render_steps=True):\n",
    "    \"\"\"\n",
    "    Evaluate a RL agent, with rendering\n",
    "    :param model: (BaseRLModel object) the RL Agent\n",
    "    :param n_eval_episodes: (int) number of episodes to evaluate it\n",
    "    :return: (float) Mean reward for the last n_eval_episodes\n",
    "    \"\"\"\n",
    "    if env is None:\n",
    "        env = model.get_env()\n",
    "\n",
    "    render_episode_interval = n_eval_episodes // render_episode_count\n",
    "    render_step_interval = n_eval_steps // render_step_count\n",
    "\n",
    "    all_episode_rewards = []\n",
    "    for i in range(n_eval_episodes):\n",
    "        episode_rewards = []\n",
    "        done = False\n",
    "        obs = env.reset()\n",
    "        if n_eval_steps < 1:\n",
    "            while not done:\n",
    "                # _states are only useful when using LSTM policies\n",
    "                action, _states = model.predict(obs, deterministic=True)\n",
    "                # here, action, rewards and dones are arrays\n",
    "                # because we are using vectorized env\n",
    "                obs, reward, done, info = env.step(action)\n",
    "                episode_rewards.append(reward)\n",
    "                if render_steps and (i % render_step_interval) == 0:\n",
    "                    env.render()\n",
    "        else:\n",
    "            for i in range(n_eval_steps):\n",
    "                # _states are only useful when using LSTM policies\n",
    "                action, _states = model.predict(obs, deterministic=True)\n",
    "                # here, action, rewards and dones are arrays\n",
    "                # because we are using vectorized env\n",
    "                obs, reward, done, info = env.step(action)\n",
    "                episode_rewards.append(reward)\n",
    "                if render_steps and (i % render_step_interval) == 0:\n",
    "                    env.render()\n",
    "\n",
    "        all_episode_rewards.append(sum(episode_rewards))\n",
    "\n",
    "        if render_episodes and (i % render_episode_interval) == 0:\n",
    "            env.render()\n",
    "\n",
    "        if done:\n",
    "            obs = env.reset()\n",
    "\n",
    "    mean_episode_reward = np.mean(all_episode_rewards)\n",
    "    std_episode_reward = np.std(all_episode_rewards)\n",
    "    \n",
    "    print(f\"Reward mean: {mean_reward:.2f} +/- {std_reward:.2f} \"\n",
    "          f\"standard deviation for {n_eval_episodes:.2f} episodes\")\n",
    "\n",
    "    return std_episode_reward, mean_episode_reward"
   ]
  },
  {
   "cell_type": "code",
   "execution_count": 34,
   "metadata": {},
   "outputs": [
    {
     "name": "stdout",
     "output_type": "stream",
     "text": [
      "Using cpu device\n",
      "Wrapping the env with a `Monitor` wrapper\n",
      "Wrapping the env in a DummyVecEnv.\n"
     ]
    }
   ],
   "source": [
    "#from stable_baselines3.common.monitor import Monitor\n",
    "#from stable_baselines3.common.logger import configure\n",
    "from stable_baselines3 import PPO\n",
    "\n",
    "#new_logger = configure('logs', ['stdout', 'csv', 'tensorboard'])  # Setup logger\n",
    "\n",
    "#env = Monitor(env)\n",
    "\n",
    "model = PPO('MlpPolicy', env, verbose=1)\n",
    "#model.set_logger(new_logger)  # Set new logger"
   ]
  },
  {
   "cell_type": "code",
   "execution_count": 35,
   "metadata": {},
   "outputs": [],
   "source": [
    "%load_ext tensorboard"
   ]
  },
  {
   "cell_type": "code",
   "execution_count": 36,
   "metadata": {},
   "outputs": [
    {
     "data": {
      "text/html": [
       "\n",
       "      <iframe id=\"tensorboard-frame-3d3c85b4788f48a2\" width=\"100%\" height=\"800\" frameborder=\"0\">\n",
       "      </iframe>\n",
       "      <script>\n",
       "        (function() {\n",
       "          const frame = document.getElementById(\"tensorboard-frame-3d3c85b4788f48a2\");\n",
       "          const url = new URL(\"/\", window.location);\n",
       "          const port = 6006;\n",
       "          if (port) {\n",
       "            url.port = port;\n",
       "          }\n",
       "          frame.src = url;\n",
       "        })();\n",
       "      </script>\n",
       "    "
      ],
      "text/plain": [
       "<IPython.core.display.HTML object>"
      ]
     },
     "metadata": {},
     "output_type": "display_data"
    }
   ],
   "source": [
    "%tensorboard --bind_all --logdir logs"
   ]
  },
  {
   "cell_type": "code",
   "execution_count": 37,
   "metadata": {},
   "outputs": [],
   "source": [
    "# Random Agent, before training\n",
    "from stable_baselines3.common.evaluation import evaluate_policy\n",
    "\n",
    "#mean_reward, std_reward = evaluate_policy(model, env, n_eval_episodes=1)\n",
    "\n",
    "#print(f\"mean_reward: {mean_reward:.2f} +/- {std_reward:.2f}\")"
   ]
  },
  {
   "cell_type": "code",
   "execution_count": 38,
   "metadata": {},
   "outputs": [
    {
     "name": "stdout",
     "output_type": "stream",
     "text": [
      "----------------------------------\n",
      "| rollout/           |           |\n",
      "|    ep_len_mean     | 1.58e+03  |\n",
      "|    ep_rew_mean     | -2.76e+07 |\n",
      "| time/              |           |\n",
      "|    fps             | 25        |\n",
      "|    iterations      | 1         |\n",
      "|    time_elapsed    | 80        |\n",
      "|    total_timesteps | 2048      |\n",
      "----------------------------------\n"
     ]
    },
    {
     "data": {
      "text/plain": [
       "<stable_baselines3.ppo.ppo.PPO at 0x7f68a7f194f0>"
      ]
     },
     "execution_count": 38,
     "metadata": {},
     "output_type": "execute_result"
    }
   ],
   "source": [
    "# Train the agent for 10000 steps\n",
    "model.learn(total_timesteps=200)"
   ]
  },
  {
   "cell_type": "code",
   "execution_count": 39,
   "metadata": {},
   "outputs": [],
   "source": [
    "model.save(\"tradingenv_training\")"
   ]
  },
  {
   "cell_type": "code",
   "execution_count": 40,
   "metadata": {},
   "outputs": [],
   "source": [
    "#mean_reward, std_reward = evaluate_policy(model, env, n_eval_episodes=1)\n",
    "\n",
    "#print(f\"mean_reward: {mean_reward:.2f} +/- {std_reward:.2f}\")"
   ]
  },
  {
   "cell_type": "code",
   "execution_count": 43,
   "metadata": {},
   "outputs": [],
   "source": [
    "steps = 100\n",
    "rendering_interval = steps // 10\n",
    "obs = env.reset()\n",
    "for i in range(steps):\n",
    "    action, _state = model.predict(obs, deterministic=True)\n",
    "    obs, reward, done, info = env.step(action)\n",
    "#    if (i % rendering_interval) == 0:\n",
    "#        env.render()\n",
    "#    if done:\n",
    "#        obs = env.reset()"
   ]
  },
  {
   "cell_type": "code",
   "execution_count": 44,
   "metadata": {},
   "outputs": [
    {
     "data": {
      "application/vnd.jupyter.widget-view+json": {
       "model_id": "0e6dbbfa772746ba9b2b6199a271772b",
       "version_major": 2,
       "version_minor": 0
      },
      "text/plain": [
       "FigureWidget({\n",
       "    'data': [{'close': array([8348.6, 8158.1, 8205.9, ..., 7495. , 7492.9, 7519. ]),\n",
       "          …"
      ]
     },
     "metadata": {},
     "output_type": "display_data"
    },
    {
     "data": {
      "application/vnd.plotly.v1+json": {
       "config": {
        "plotlyServerURL": "https://plot.ly"
       },
       "data": [
        {
         "close": [
          8348.6,
          8158.1,
          8205.9,
          8276,
          8255.2,
          8286.4,
          8266.2,
          8227.4,
          8290,
          8271.9,
          8278.1,
          8336.1,
          8346.07,
          8368.7,
          8373.5,
          8355,
          8319.5,
          8352.2,
          8337.8,
          8246.7,
          8270.1,
          8279.4,
          8296.4,
          8302,
          8274.8,
          8288.8,
          8311.8,
          8300.9,
          8271.6,
          8250,
          8163.4,
          8170,
          8206.1,
          8147.08,
          8069.9,
          8054.3,
          7958,
          7981.1,
          7995.1,
          7996,
          8016,
          8035.7,
          7964,
          8085,
          8123.6,
          8102.4,
          8130,
          8101.5,
          8105.5,
          8095.7,
          8074.9,
          8105,
          8130,
          8103.3,
          8209.1,
          8224.9,
          8224.2,
          8226.9,
          8214,
          8238.9,
          8215,
          8192.9,
          8200,
          8237.5,
          8226.4,
          8236.2,
          8216.7,
          8171.4,
          8210,
          8188.9,
          8238.5,
          8382,
          8345.2,
          8300.6,
          8302.7,
          8307.9,
          8289.8,
          8296.4,
          8289.8,
          8304,
          8254,
          8195.1,
          8215.5,
          8231,
          8190.6,
          8218.3,
          8281.2,
          8252,
          8257,
          8247.6,
          8247.9,
          8257.6,
          8276.5,
          8342.7,
          8343,
          8342.7,
          8305.9,
          8319.8,
          8342,
          8373.2,
          8484.6
         ],
         "high": [
          8380,
          8372.8,
          8212,
          8370.2,
          8318.5,
          8349.3,
          8328,
          8375,
          8290.8,
          8314,
          8366.9,
          8357.3,
          8396.8,
          8376.1,
          8394,
          8482.2,
          8373.5,
          8374.8,
          8364.3,
          8345.7,
          8280.6,
          8315.6,
          8313.2,
          8316,
          8337.4,
          8299.9,
          8363,
          8323.8,
          8320.6,
          8271.6,
          8266.4,
          8192,
          8232,
          8206.5,
          8147.08,
          8093,
          8063,
          8024.9,
          8022.7,
          8023,
          8057,
          8046.2,
          8035.7,
          8161,
          8138.7,
          8130.8,
          8145.8,
          8131.7,
          8128,
          8116,
          8095.8,
          8133,
          8157.6,
          8143.9,
          8224,
          8277.2,
          8250.1,
          8265.5,
          8246.9,
          8247.5,
          8255,
          8225.2,
          8211.6,
          8277.8,
          8270.7,
          8236.92,
          8250,
          8219,
          8210,
          8213,
          8250,
          8430,
          8401,
          8374.3,
          8330.1,
          8315.1,
          8315.2,
          8302.1,
          8315.4,
          8304.1,
          8310,
          8254,
          8234,
          8248.7,
          8231,
          8220,
          8282.04,
          8286.1,
          8265.9,
          8270,
          8291,
          8268.9,
          8298.9,
          8357.5,
          8379,
          8346.5,
          8360.4,
          8337.5,
          8350.4,
          8374.1,
          8535
         ],
         "low": [
          8342.2,
          8121.7,
          8158.07,
          8205.8,
          8192.6,
          8240.9,
          8266.1,
          8227.01,
          8222,
          8252.2,
          8271.9,
          8274,
          8319.2,
          8311.3,
          8354.9,
          8320.9,
          8316.4,
          8274.2,
          8333.1,
          8190.4,
          8202.5,
          8263,
          8256.7,
          8280,
          8227.8,
          8266.44,
          8287.8,
          8286.9,
          8218.3,
          8228.76,
          8119.4,
          8153,
          8170,
          8144.4,
          7982.5,
          7990.7,
          7925,
          7941.3,
          7944.8,
          7977.03,
          7995.8,
          7990.12,
          7950.8,
          7964,
          8080.3,
          8085.1,
          8093.1,
          8050,
          8079.7,
          8050,
          8036.7,
          8066.2,
          8080,
          8093.8,
          8085.9,
          8200.3,
          8205.5,
          8222.8,
          8200.3,
          8214,
          8211,
          8164.1,
          8178.7,
          8185.86,
          8222.1,
          8216,
          8216.1,
          8140.2,
          8145.2,
          8185.1,
          8188.8,
          8230.2,
          8327.2,
          8283.5,
          8294.5,
          8279,
          8273.6,
          8271,
          8289.8,
          8274.4,
          8254,
          8189.2,
          8172.4,
          8197.2,
          8182.1,
          8171.5,
          8212,
          8240.2,
          8237.7,
          8241,
          8247.6,
          8229.7,
          8255.4,
          8276.5,
          8324.9,
          8316.5,
          8290.3,
          8292.8,
          8319.8,
          8337.5,
          8373.2
         ],
         "name": "Price",
         "open": [
          8358.5,
          8348.6,
          8158.1,
          8205.9,
          8276,
          8255.2,
          8286.4,
          8266.2,
          8227.4,
          8290,
          8271.9,
          8278.1,
          8336.1,
          8346.07,
          8368.7,
          8373.5,
          8355,
          8319.5,
          8352.2,
          8337.8,
          8246.7,
          8270.1,
          8279.4,
          8296.4,
          8302,
          8274.8,
          8288.8,
          8311.8,
          8300.9,
          8271.6,
          8250,
          8163.4,
          8170,
          8206.1,
          8147.08,
          8069.9,
          8054.3,
          7958,
          7981.1,
          7995.1,
          7996,
          8016,
          8035.7,
          7964,
          8085,
          8123.6,
          8102.4,
          8130,
          8101.5,
          8105.5,
          8095.7,
          8074.9,
          8105,
          8130,
          8103.3,
          8209.1,
          8224.9,
          8224.2,
          8226.9,
          8214,
          8238.9,
          8215,
          8192.9,
          8200,
          8237.5,
          8226.4,
          8236.2,
          8216.7,
          8171.4,
          8210,
          8188.9,
          8238.5,
          8382,
          8345.2,
          8300.6,
          8302.7,
          8307.9,
          8289.8,
          8296.4,
          8289.8,
          8304,
          8254,
          8195.1,
          8215.5,
          8231,
          8190.6,
          8218.3,
          8281.2,
          8252,
          8257,
          8247.6,
          8247.9,
          8257.6,
          8276.5,
          8342.7,
          8343,
          8342.7,
          8305.9,
          8319.8,
          8342,
          8373.2
         ],
         "showlegend": false,
         "type": "candlestick",
         "uid": "3f3a43c3-f0c5-4a08-aa42-50085de25e24",
         "xaxis": "x",
         "yaxis": "y"
        },
        {
         "marker": {
          "color": "DodgerBlue"
         },
         "name": "Volume",
         "showlegend": false,
         "type": "bar",
         "uid": "31e9ce6e-94fc-4c57-9fcd-26722cbc4bb4",
         "xaxis": "x2",
         "y": [
          5479810,
          24269108,
          5457501,
          15802905,
          15226854,
          22453283,
          2340358,
          6197892,
          4343002,
          4066149,
          6783076,
          6912962,
          7878424,
          5713233,
          4875954,
          18714875,
          2581490,
          7487354,
          2795240,
          15044687,
          8332633,
          3351047,
          3576555,
          4412616,
          10318967,
          3219867,
          6528544,
          2382210,
          14537481,
          4152516,
          14783512,
          5582076,
          6338329,
          4880828,
          38371646,
          7470965,
          13753738,
          7557856,
          7570792,
          5015084,
          9380234,
          4996646,
          6179627,
          23205279,
          7010761,
          4485979,
          5708771,
          7389891,
          8258179,
          6649750,
          6531746,
          5094499,
          8542485,
          4862989,
          10479980,
          22630523,
          2287274,
          2232387,
          1645824,
          2765733,
          3205020,
          3952721,
          1140139,
          7996865,
          2889095,
          1665538,
          1151743,
          9742621,
          2324514,
          2334663,
          2927809,
          10054408,
          11994488,
          10677166,
          2714399,
          9219522,
          3947596,
          2038591,
          1794741,
          3154886,
          2134195,
          5748652,
          2924028,
          3827287,
          6168063,
          2415201,
          3497915,
          2793383,
          1063847,
          1265013,
          2593800,
          975383,
          3526062,
          8391262,
          10551816,
          2410417,
          4167090,
          2402958,
          3281445,
          4790161,
          32112292
         ],
         "yaxis": "y2"
        },
        {
         "mode": "lines",
         "name": "bitstamp:/USD-BTC",
         "type": "scatter",
         "uid": "f334c0ef-34b8-46ec-9de1-136b1a29eb46",
         "xaxis": "x3",
         "y": [
          8348.6,
          8158.1,
          8205.9,
          8276,
          8255.2,
          8286.4,
          8266.2,
          8227.4,
          8290,
          8271.9,
          8278.1,
          8336.1,
          8346.07,
          8368.7,
          8373.5,
          8355,
          8319.5,
          8352.2,
          8337.8,
          8246.7,
          8270.1,
          8279.4,
          8296.4,
          8302,
          8274.8,
          8288.8,
          8311.8,
          8300.9,
          8271.6,
          8250,
          8163.4,
          8170,
          8206.1,
          8147.08,
          8069.9,
          8054.3,
          7958,
          7981.1,
          7995.1,
          7996,
          8016,
          8035.7,
          7964,
          8085,
          8123.6,
          8102.4,
          8130,
          8101.5,
          8105.5,
          8095.7,
          8074.9,
          8105,
          8130,
          8103.3,
          8209.1,
          8224.9,
          8224.2,
          8226.9,
          8214,
          8238.9,
          8215,
          8192.9,
          8200,
          8237.5,
          8226.4,
          8236.2,
          8216.7,
          8171.4,
          8210,
          8188.9,
          8238.5,
          8382,
          8345.2,
          8300.6,
          8302.7,
          8307.9,
          8289.8,
          8296.4,
          8289.8,
          8304,
          8254,
          8195.1,
          8215.5,
          8231,
          8190.6,
          8218.3,
          8281.2,
          8252,
          8257,
          8247.6,
          8247.9,
          8257.6,
          8276.5,
          8342.7,
          8343,
          8342.7,
          8305.9,
          8319.8,
          8342,
          8373.2,
          8484.6
         ],
         "yaxis": "y3"
        },
        {
         "mode": "lines",
         "name": "bitstamp:/USD:/free",
         "type": "scatter",
         "uid": "12a2a233-9b42-496c-836e-192f1404324e",
         "xaxis": "x3",
         "y": [
          50000,
          0,
          0,
          0,
          0,
          0,
          0,
          0,
          0,
          0,
          0,
          0,
          0,
          0,
          0,
          0,
          0,
          0,
          0,
          0,
          0,
          0,
          0,
          0,
          0,
          0,
          0,
          0,
          0,
          0,
          0,
          0,
          0,
          0,
          0,
          0,
          0,
          0,
          0,
          0,
          0,
          0,
          0,
          0,
          0,
          0,
          0,
          0,
          0,
          0,
          0,
          0,
          0,
          0,
          0,
          0,
          0,
          0,
          0,
          0,
          0,
          0,
          0,
          0,
          0,
          0,
          0,
          0,
          0,
          0,
          0,
          0,
          0,
          0,
          0,
          0,
          0,
          0,
          0,
          0,
          0,
          0,
          0,
          0,
          0,
          0,
          0,
          0,
          0,
          0,
          0,
          0,
          0,
          0,
          0,
          0,
          0,
          0,
          0,
          0,
          0
         ],
         "yaxis": "y3"
        },
        {
         "mode": "lines",
         "name": "bitstamp:/USD:/locked",
         "type": "scatter",
         "uid": "515fccc8-2838-4076-bf84-b2bc178e8166",
         "xaxis": "x3",
         "y": [
          0,
          0,
          0,
          0,
          0,
          0,
          0,
          0,
          0,
          0,
          0,
          0,
          0,
          0,
          0,
          0,
          0,
          0,
          0,
          0,
          0,
          0,
          0,
          0,
          0,
          0,
          0,
          0,
          0,
          0,
          0,
          0,
          0,
          0,
          0,
          0,
          0,
          0,
          0,
          0,
          0,
          0,
          0,
          0,
          0,
          0,
          0,
          0,
          0,
          0,
          0,
          0,
          0,
          0,
          0,
          0,
          0,
          0,
          0,
          0,
          0,
          0,
          0,
          0,
          0,
          0,
          0,
          0,
          0,
          0,
          0,
          0,
          0,
          0,
          0,
          0,
          0,
          0,
          0,
          0,
          0,
          0,
          0,
          0,
          0,
          0,
          0,
          0,
          0,
          0,
          0,
          0,
          0,
          0,
          0,
          0,
          0,
          0,
          0,
          0,
          0
         ],
         "yaxis": "y3"
        },
        {
         "mode": "lines",
         "name": "bitstamp:/USD:/total",
         "type": "scatter",
         "uid": "13891ac4-7cba-42d5-8bc8-b30f634d04bb",
         "xaxis": "x3",
         "y": [
          50000,
          0,
          0,
          0,
          0,
          0,
          0,
          0,
          0,
          0,
          0,
          0,
          0,
          0,
          0,
          0,
          0,
          0,
          0,
          0,
          0,
          0,
          0,
          0,
          0,
          0,
          0,
          0,
          0,
          0,
          0,
          0,
          0,
          0,
          0,
          0,
          0,
          0,
          0,
          0,
          0,
          0,
          0,
          0,
          0,
          0,
          0,
          0,
          0,
          0,
          0,
          0,
          0,
          0,
          0,
          0,
          0,
          0,
          0,
          0,
          0,
          0,
          0,
          0,
          0,
          0,
          0,
          0,
          0,
          0,
          0,
          0,
          0,
          0,
          0,
          0,
          0,
          0,
          0,
          0,
          0,
          0,
          0,
          0,
          0,
          0,
          0,
          0,
          0,
          0,
          0,
          0,
          0,
          0,
          0,
          0,
          0,
          0,
          0,
          0,
          0
         ],
         "yaxis": "y3"
        },
        {
         "mode": "lines",
         "name": "bitstamp:/BTC:/free",
         "type": "scatter",
         "uid": "a4a6a22e-c3e9-4202-b925-54805ece2960",
         "xaxis": "x3",
         "y": [
          0,
          5.97106102,
          5.97106102,
          5.97106102,
          5.97106102,
          5.97106102,
          5.97106102,
          5.97106102,
          5.97106102,
          5.97106102,
          5.97106102,
          5.97106102,
          5.97106102,
          5.97106102,
          5.97106102,
          5.97106102,
          5.97106102,
          5.97106102,
          5.97106102,
          5.97106102,
          5.97106102,
          5.97106102,
          5.97106102,
          5.97106102,
          5.97106102,
          5.97106102,
          5.97106102,
          5.97106102,
          5.97106102,
          5.97106102,
          5.97106102,
          5.97106102,
          5.97106102,
          5.97106102,
          5.97106102,
          5.97106102,
          5.97106102,
          5.97106102,
          5.97106102,
          5.97106102,
          5.97106102,
          5.97106102,
          5.97106102,
          5.97106102,
          5.97106102,
          5.97106102,
          5.97106102,
          5.97106102,
          5.97106102,
          5.97106102,
          5.97106102,
          5.97106102,
          5.97106102,
          5.97106102,
          5.97106102,
          5.97106102,
          5.97106102,
          5.97106102,
          5.97106102,
          5.97106102,
          5.97106102,
          5.97106102,
          5.97106102,
          5.97106102,
          5.97106102,
          5.97106102,
          5.97106102,
          5.97106102,
          5.97106102,
          5.97106102,
          5.97106102,
          5.97106102,
          5.97106102,
          5.97106102,
          5.97106102,
          5.97106102,
          5.97106102,
          5.97106102,
          5.97106102,
          5.97106102,
          5.97106102,
          5.97106102,
          5.97106102,
          5.97106102,
          5.97106102,
          5.97106102,
          5.97106102,
          5.97106102,
          5.97106102,
          5.97106102,
          5.97106102,
          5.97106102,
          5.97106102,
          5.97106102,
          5.97106102,
          5.97106102,
          5.97106102,
          5.97106102,
          5.97106102,
          5.97106102,
          5.97106102
         ],
         "yaxis": "y3"
        },
        {
         "mode": "lines",
         "name": "bitstamp:/BTC:/locked",
         "type": "scatter",
         "uid": "16f309a9-6762-48d7-bb13-d88429ebd7b5",
         "xaxis": "x3",
         "y": [
          0,
          0,
          0,
          0,
          0,
          0,
          0,
          0,
          0,
          0,
          0,
          0,
          0,
          0,
          0,
          0,
          0,
          0,
          0,
          0,
          0,
          0,
          0,
          0,
          0,
          0,
          0,
          0,
          0,
          0,
          0,
          0,
          0,
          0,
          0,
          0,
          0,
          0,
          0,
          0,
          0,
          0,
          0,
          0,
          0,
          0,
          0,
          0,
          0,
          0,
          0,
          0,
          0,
          0,
          0,
          0,
          0,
          0,
          0,
          0,
          0,
          0,
          0,
          0,
          0,
          0,
          0,
          0,
          0,
          0,
          0,
          0,
          0,
          0,
          0,
          0,
          0,
          0,
          0,
          0,
          0,
          0,
          0,
          0,
          0,
          0,
          0,
          0,
          0,
          0,
          0,
          0,
          0,
          0,
          0,
          0,
          0,
          0,
          0,
          0,
          0
         ],
         "yaxis": "y3"
        },
        {
         "mode": "lines",
         "name": "bitstamp:/BTC:/total",
         "type": "scatter",
         "uid": "620abb3d-4e71-4eb5-bc79-eea9f24f06eb",
         "xaxis": "x3",
         "y": [
          0,
          5.97106102,
          5.97106102,
          5.97106102,
          5.97106102,
          5.97106102,
          5.97106102,
          5.97106102,
          5.97106102,
          5.97106102,
          5.97106102,
          5.97106102,
          5.97106102,
          5.97106102,
          5.97106102,
          5.97106102,
          5.97106102,
          5.97106102,
          5.97106102,
          5.97106102,
          5.97106102,
          5.97106102,
          5.97106102,
          5.97106102,
          5.97106102,
          5.97106102,
          5.97106102,
          5.97106102,
          5.97106102,
          5.97106102,
          5.97106102,
          5.97106102,
          5.97106102,
          5.97106102,
          5.97106102,
          5.97106102,
          5.97106102,
          5.97106102,
          5.97106102,
          5.97106102,
          5.97106102,
          5.97106102,
          5.97106102,
          5.97106102,
          5.97106102,
          5.97106102,
          5.97106102,
          5.97106102,
          5.97106102,
          5.97106102,
          5.97106102,
          5.97106102,
          5.97106102,
          5.97106102,
          5.97106102,
          5.97106102,
          5.97106102,
          5.97106102,
          5.97106102,
          5.97106102,
          5.97106102,
          5.97106102,
          5.97106102,
          5.97106102,
          5.97106102,
          5.97106102,
          5.97106102,
          5.97106102,
          5.97106102,
          5.97106102,
          5.97106102,
          5.97106102,
          5.97106102,
          5.97106102,
          5.97106102,
          5.97106102,
          5.97106102,
          5.97106102,
          5.97106102,
          5.97106102,
          5.97106102,
          5.97106102,
          5.97106102,
          5.97106102,
          5.97106102,
          5.97106102,
          5.97106102,
          5.97106102,
          5.97106102,
          5.97106102,
          5.97106102,
          5.97106102,
          5.97106102,
          5.97106102,
          5.97106102,
          5.97106102,
          5.97106102,
          5.97106102,
          5.97106102,
          5.97106102,
          5.97106102
         ],
         "yaxis": "y3"
        },
        {
         "mode": "lines",
         "name": "bitstamp:/BTC:/worth",
         "type": "scatter",
         "uid": "cba08840-3d4d-4a35-97b1-3a877b6dde7f",
         "xaxis": "x3",
         "y": [
          0,
          48712.512907262,
          48997.929624018,
          49416.501001519995,
          49292.302932304,
          49478.600036127995,
          49357.984603524004,
          49126.307435947994,
          49500.0958558,
          49392.01965133799,
          49429.040229662,
          49775.361768822,
          49834.893247191394,
          49970.018358074,
          49998.67945097,
          49888.214822099995,
          49676.242155889995,
          49871.495851244,
          49785.51257255599,
          49241.548913634004,
          49381.271741502,
          49436.80260898799,
          49538.31064632799,
          49571.74858804,
          49409.33572829599,
          49492.930582575995,
          49630.26498603599,
          49565.180420918,
          49390.228333032,
          49261.253415,
          48744.159530667996,
          48783.56853339999,
          48999.123836221996,
          48646.711814821596,
          48185.86532529799,
          48092.716773386,
          47517.70359716,
          47655.635106722,
          47739.229961002,
          47744.60391591999,
          47864.02513632,
          47981.655038414,
          47553.529963279994,
          48276.0283467,
          48506.511302072,
          48379.92480844799,
          48544.726092599994,
          48374.550853529996,
          48398.435097609996,
          48339.918699614,
          48215.72063039799,
          48395.4495671,
          48544.726092599994,
          48385.298763366,
          49017.037019282,
          49111.37978339799,
          49107.200040684,
          49123.321905437995,
          49046.29521828,
          49194.974637677995,
          49052.2662793,
          48920.30583075799,
          48962.700364,
          49186.61515225,
          49120.336374927996,
          49178.852772924,
          49062.417083034,
          48791.928018827995,
          49022.4109742,
          48896.42158667799,
          49192.58621327,
          50049.43346964,
          49829.698424104005,
          49563.389102611996,
          49575.928330754,
          49606.97784805799,
          49498.90164359599,
          49538.31064632799,
          49498.90164359599,
          49583.690710079994,
          49285.13765908,
          48933.442165002,
          49055.25180981,
          49147.80325562,
          48906.572390412,
          49071.97078066599,
          49447.550518824,
          49273.195537039996,
          49303.05084213999,
          49246.922868552,
          49248.71418685799,
          49306.633478751995,
          49419.486532029994,
          49814.770771554,
          49816.562089859995,
          49814.770771554,
          49595.035726017995,
          49678.033474195996,
          49810.59102884,
          49996.888132664004,
          50662.064330292
         ],
         "yaxis": "y3"
        },
        {
         "mode": "lines",
         "name": "net_worth",
         "type": "scatter",
         "uid": "f4f41c1a-970b-4def-a34c-5802fa3d77e9",
         "xaxis": "x3",
         "y": [
          50000,
          48712.512907262,
          48997.929624018,
          49416.501001519995,
          49292.302932304,
          49478.600036127995,
          49357.984603524004,
          49126.307435947994,
          49500.0958558,
          49392.01965133799,
          49429.040229662,
          49775.361768822,
          49834.893247191394,
          49970.018358074,
          49998.67945097,
          49888.214822099995,
          49676.242155889995,
          49871.495851244,
          49785.51257255599,
          49241.548913634004,
          49381.271741502,
          49436.80260898799,
          49538.31064632799,
          49571.74858804,
          49409.33572829599,
          49492.930582575995,
          49630.26498603599,
          49565.180420918,
          49390.228333032,
          49261.253415,
          48744.159530667996,
          48783.56853339999,
          48999.123836221996,
          48646.711814821596,
          48185.86532529799,
          48092.716773386,
          47517.70359716,
          47655.635106722,
          47739.229961002,
          47744.60391591999,
          47864.02513632,
          47981.655038414,
          47553.529963279994,
          48276.0283467,
          48506.511302072,
          48379.92480844799,
          48544.726092599994,
          48374.550853529996,
          48398.435097609996,
          48339.918699614,
          48215.72063039799,
          48395.4495671,
          48544.726092599994,
          48385.298763366,
          49017.037019282,
          49111.37978339799,
          49107.200040684,
          49123.321905437995,
          49046.29521828,
          49194.974637677995,
          49052.2662793,
          48920.30583075799,
          48962.700364,
          49186.61515225,
          49120.336374927996,
          49178.852772924,
          49062.417083034,
          48791.928018827995,
          49022.4109742,
          48896.42158667799,
          49192.58621327,
          50049.43346964,
          49829.698424104005,
          49563.389102611996,
          49575.928330754,
          49606.97784805799,
          49498.90164359599,
          49538.31064632799,
          49498.90164359599,
          49583.690710079994,
          49285.13765908,
          48933.442165002,
          49055.25180981,
          49147.80325562,
          48906.572390412,
          49071.97078066599,
          49447.550518824,
          49273.195537039996,
          49303.05084213999,
          49246.922868552,
          49248.71418685799,
          49306.633478751995,
          49419.486532029994,
          49814.770771554,
          49816.562089859995,
          49814.770771554,
          49595.035726017995,
          49678.033474195996,
          49810.59102884,
          49996.888132664004,
          50662.064330292
         ],
         "yaxis": "y3"
        },
        {
         "marker": {
          "color": "DarkGreen"
         },
         "mode": "lines",
         "name": "Net Worth",
         "type": "scatter",
         "uid": "49f2dab8-9230-4be4-bac4-eacfd773fb16",
         "xaxis": "x4",
         "y": [
          50000,
          48712.512907262,
          48997.929624018,
          49416.501001519995,
          49292.302932304,
          49478.600036127995,
          49357.984603524004,
          49126.307435947994,
          49500.0958558,
          49392.01965133799,
          49429.040229662,
          49775.361768822,
          49834.893247191394,
          49970.018358074,
          49998.67945097,
          49888.214822099995,
          49676.242155889995,
          49871.495851244,
          49785.51257255599,
          49241.548913634004,
          49381.271741502,
          49436.80260898799,
          49538.31064632799,
          49571.74858804,
          49409.33572829599,
          49492.930582575995,
          49630.26498603599,
          49565.180420918,
          49390.228333032,
          49261.253415,
          48744.159530667996,
          48783.56853339999,
          48999.123836221996,
          48646.711814821596,
          48185.86532529799,
          48092.716773386,
          47517.70359716,
          47655.635106722,
          47739.229961002,
          47744.60391591999,
          47864.02513632,
          47981.655038414,
          47553.529963279994,
          48276.0283467,
          48506.511302072,
          48379.92480844799,
          48544.726092599994,
          48374.550853529996,
          48398.435097609996,
          48339.918699614,
          48215.72063039799,
          48395.4495671,
          48544.726092599994,
          48385.298763366,
          49017.037019282,
          49111.37978339799,
          49107.200040684,
          49123.321905437995,
          49046.29521828,
          49194.974637677995,
          49052.2662793,
          48920.30583075799,
          48962.700364,
          49186.61515225,
          49120.336374927996,
          49178.852772924,
          49062.417083034,
          48791.928018827995,
          49022.4109742,
          48896.42158667799,
          49192.58621327,
          50049.43346964,
          49829.698424104005,
          49563.389102611996,
          49575.928330754,
          49606.97784805799,
          49498.90164359599,
          49538.31064632799,
          49498.90164359599,
          49583.690710079994,
          49285.13765908,
          48933.442165002,
          49055.25180981,
          49147.80325562,
          48906.572390412,
          49071.97078066599,
          49447.550518824,
          49273.195537039996,
          49303.05084213999,
          49246.922868552,
          49248.71418685799,
          49306.633478751995,
          49419.486532029994,
          49814.770771554,
          49816.562089859995,
          49814.770771554,
          49595.035726017995,
          49678.033474195996,
          49810.59102884,
          49996.888132664004,
          50662.064330292
         ],
         "yaxis": "y4"
        }
       ],
       "layout": {
        "annotations": [
         {
          "arrowcolor": "DarkGreen",
          "arrowhead": 2,
          "arrowsize": 0.8,
          "arrowwidth": 4,
          "ax": 0,
          "ay": 15,
          "hoverlabel": {
           "bgcolor": "DarkGreen"
          },
          "hovertext": "Step 1 [2018-05-16 12:00 PM]<br>BUY 5.97106102 BTC @ 8348.6 USD MARKET<br>Total: 49850.0 USD - Comm.: 150.00 USD",
          "opacity": 0.6,
          "showarrow": true,
          "x": 0,
          "xref": "x",
          "y": 8348.6,
          "yref": "y"
         }
        ],
        "margin": {
         "t": 50
        },
        "template": {
         "data": {
          "bar": [
           {
            "error_x": {
             "color": "#2a3f5f"
            },
            "error_y": {
             "color": "#2a3f5f"
            },
            "marker": {
             "line": {
              "color": "white",
              "width": 0.5
             },
             "pattern": {
              "fillmode": "overlay",
              "size": 10,
              "solidity": 0.2
             }
            },
            "type": "bar"
           }
          ],
          "barpolar": [
           {
            "marker": {
             "line": {
              "color": "white",
              "width": 0.5
             },
             "pattern": {
              "fillmode": "overlay",
              "size": 10,
              "solidity": 0.2
             }
            },
            "type": "barpolar"
           }
          ],
          "carpet": [
           {
            "aaxis": {
             "endlinecolor": "#2a3f5f",
             "gridcolor": "#C8D4E3",
             "linecolor": "#C8D4E3",
             "minorgridcolor": "#C8D4E3",
             "startlinecolor": "#2a3f5f"
            },
            "baxis": {
             "endlinecolor": "#2a3f5f",
             "gridcolor": "#C8D4E3",
             "linecolor": "#C8D4E3",
             "minorgridcolor": "#C8D4E3",
             "startlinecolor": "#2a3f5f"
            },
            "type": "carpet"
           }
          ],
          "choropleth": [
           {
            "colorbar": {
             "outlinewidth": 0,
             "ticks": ""
            },
            "type": "choropleth"
           }
          ],
          "contour": [
           {
            "colorbar": {
             "outlinewidth": 0,
             "ticks": ""
            },
            "colorscale": [
             [
              0,
              "#0d0887"
             ],
             [
              0.1111111111111111,
              "#46039f"
             ],
             [
              0.2222222222222222,
              "#7201a8"
             ],
             [
              0.3333333333333333,
              "#9c179e"
             ],
             [
              0.4444444444444444,
              "#bd3786"
             ],
             [
              0.5555555555555556,
              "#d8576b"
             ],
             [
              0.6666666666666666,
              "#ed7953"
             ],
             [
              0.7777777777777778,
              "#fb9f3a"
             ],
             [
              0.8888888888888888,
              "#fdca26"
             ],
             [
              1,
              "#f0f921"
             ]
            ],
            "type": "contour"
           }
          ],
          "contourcarpet": [
           {
            "colorbar": {
             "outlinewidth": 0,
             "ticks": ""
            },
            "type": "contourcarpet"
           }
          ],
          "heatmap": [
           {
            "colorbar": {
             "outlinewidth": 0,
             "ticks": ""
            },
            "colorscale": [
             [
              0,
              "#0d0887"
             ],
             [
              0.1111111111111111,
              "#46039f"
             ],
             [
              0.2222222222222222,
              "#7201a8"
             ],
             [
              0.3333333333333333,
              "#9c179e"
             ],
             [
              0.4444444444444444,
              "#bd3786"
             ],
             [
              0.5555555555555556,
              "#d8576b"
             ],
             [
              0.6666666666666666,
              "#ed7953"
             ],
             [
              0.7777777777777778,
              "#fb9f3a"
             ],
             [
              0.8888888888888888,
              "#fdca26"
             ],
             [
              1,
              "#f0f921"
             ]
            ],
            "type": "heatmap"
           }
          ],
          "heatmapgl": [
           {
            "colorbar": {
             "outlinewidth": 0,
             "ticks": ""
            },
            "colorscale": [
             [
              0,
              "#0d0887"
             ],
             [
              0.1111111111111111,
              "#46039f"
             ],
             [
              0.2222222222222222,
              "#7201a8"
             ],
             [
              0.3333333333333333,
              "#9c179e"
             ],
             [
              0.4444444444444444,
              "#bd3786"
             ],
             [
              0.5555555555555556,
              "#d8576b"
             ],
             [
              0.6666666666666666,
              "#ed7953"
             ],
             [
              0.7777777777777778,
              "#fb9f3a"
             ],
             [
              0.8888888888888888,
              "#fdca26"
             ],
             [
              1,
              "#f0f921"
             ]
            ],
            "type": "heatmapgl"
           }
          ],
          "histogram": [
           {
            "marker": {
             "pattern": {
              "fillmode": "overlay",
              "size": 10,
              "solidity": 0.2
             }
            },
            "type": "histogram"
           }
          ],
          "histogram2d": [
           {
            "colorbar": {
             "outlinewidth": 0,
             "ticks": ""
            },
            "colorscale": [
             [
              0,
              "#0d0887"
             ],
             [
              0.1111111111111111,
              "#46039f"
             ],
             [
              0.2222222222222222,
              "#7201a8"
             ],
             [
              0.3333333333333333,
              "#9c179e"
             ],
             [
              0.4444444444444444,
              "#bd3786"
             ],
             [
              0.5555555555555556,
              "#d8576b"
             ],
             [
              0.6666666666666666,
              "#ed7953"
             ],
             [
              0.7777777777777778,
              "#fb9f3a"
             ],
             [
              0.8888888888888888,
              "#fdca26"
             ],
             [
              1,
              "#f0f921"
             ]
            ],
            "type": "histogram2d"
           }
          ],
          "histogram2dcontour": [
           {
            "colorbar": {
             "outlinewidth": 0,
             "ticks": ""
            },
            "colorscale": [
             [
              0,
              "#0d0887"
             ],
             [
              0.1111111111111111,
              "#46039f"
             ],
             [
              0.2222222222222222,
              "#7201a8"
             ],
             [
              0.3333333333333333,
              "#9c179e"
             ],
             [
              0.4444444444444444,
              "#bd3786"
             ],
             [
              0.5555555555555556,
              "#d8576b"
             ],
             [
              0.6666666666666666,
              "#ed7953"
             ],
             [
              0.7777777777777778,
              "#fb9f3a"
             ],
             [
              0.8888888888888888,
              "#fdca26"
             ],
             [
              1,
              "#f0f921"
             ]
            ],
            "type": "histogram2dcontour"
           }
          ],
          "mesh3d": [
           {
            "colorbar": {
             "outlinewidth": 0,
             "ticks": ""
            },
            "type": "mesh3d"
           }
          ],
          "parcoords": [
           {
            "line": {
             "colorbar": {
              "outlinewidth": 0,
              "ticks": ""
             }
            },
            "type": "parcoords"
           }
          ],
          "pie": [
           {
            "automargin": true,
            "type": "pie"
           }
          ],
          "scatter": [
           {
            "marker": {
             "colorbar": {
              "outlinewidth": 0,
              "ticks": ""
             }
            },
            "type": "scatter"
           }
          ],
          "scatter3d": [
           {
            "line": {
             "colorbar": {
              "outlinewidth": 0,
              "ticks": ""
             }
            },
            "marker": {
             "colorbar": {
              "outlinewidth": 0,
              "ticks": ""
             }
            },
            "type": "scatter3d"
           }
          ],
          "scattercarpet": [
           {
            "marker": {
             "colorbar": {
              "outlinewidth": 0,
              "ticks": ""
             }
            },
            "type": "scattercarpet"
           }
          ],
          "scattergeo": [
           {
            "marker": {
             "colorbar": {
              "outlinewidth": 0,
              "ticks": ""
             }
            },
            "type": "scattergeo"
           }
          ],
          "scattergl": [
           {
            "marker": {
             "colorbar": {
              "outlinewidth": 0,
              "ticks": ""
             }
            },
            "type": "scattergl"
           }
          ],
          "scattermapbox": [
           {
            "marker": {
             "colorbar": {
              "outlinewidth": 0,
              "ticks": ""
             }
            },
            "type": "scattermapbox"
           }
          ],
          "scatterpolar": [
           {
            "marker": {
             "colorbar": {
              "outlinewidth": 0,
              "ticks": ""
             }
            },
            "type": "scatterpolar"
           }
          ],
          "scatterpolargl": [
           {
            "marker": {
             "colorbar": {
              "outlinewidth": 0,
              "ticks": ""
             }
            },
            "type": "scatterpolargl"
           }
          ],
          "scatterternary": [
           {
            "marker": {
             "colorbar": {
              "outlinewidth": 0,
              "ticks": ""
             }
            },
            "type": "scatterternary"
           }
          ],
          "surface": [
           {
            "colorbar": {
             "outlinewidth": 0,
             "ticks": ""
            },
            "colorscale": [
             [
              0,
              "#0d0887"
             ],
             [
              0.1111111111111111,
              "#46039f"
             ],
             [
              0.2222222222222222,
              "#7201a8"
             ],
             [
              0.3333333333333333,
              "#9c179e"
             ],
             [
              0.4444444444444444,
              "#bd3786"
             ],
             [
              0.5555555555555556,
              "#d8576b"
             ],
             [
              0.6666666666666666,
              "#ed7953"
             ],
             [
              0.7777777777777778,
              "#fb9f3a"
             ],
             [
              0.8888888888888888,
              "#fdca26"
             ],
             [
              1,
              "#f0f921"
             ]
            ],
            "type": "surface"
           }
          ],
          "table": [
           {
            "cells": {
             "fill": {
              "color": "#EBF0F8"
             },
             "line": {
              "color": "white"
             }
            },
            "header": {
             "fill": {
              "color": "#C8D4E3"
             },
             "line": {
              "color": "white"
             }
            },
            "type": "table"
           }
          ]
         },
         "layout": {
          "annotationdefaults": {
           "arrowcolor": "#2a3f5f",
           "arrowhead": 0,
           "arrowwidth": 1
          },
          "autotypenumbers": "strict",
          "coloraxis": {
           "colorbar": {
            "outlinewidth": 0,
            "ticks": ""
           }
          },
          "colorscale": {
           "diverging": [
            [
             0,
             "#8e0152"
            ],
            [
             0.1,
             "#c51b7d"
            ],
            [
             0.2,
             "#de77ae"
            ],
            [
             0.3,
             "#f1b6da"
            ],
            [
             0.4,
             "#fde0ef"
            ],
            [
             0.5,
             "#f7f7f7"
            ],
            [
             0.6,
             "#e6f5d0"
            ],
            [
             0.7,
             "#b8e186"
            ],
            [
             0.8,
             "#7fbc41"
            ],
            [
             0.9,
             "#4d9221"
            ],
            [
             1,
             "#276419"
            ]
           ],
           "sequential": [
            [
             0,
             "#0d0887"
            ],
            [
             0.1111111111111111,
             "#46039f"
            ],
            [
             0.2222222222222222,
             "#7201a8"
            ],
            [
             0.3333333333333333,
             "#9c179e"
            ],
            [
             0.4444444444444444,
             "#bd3786"
            ],
            [
             0.5555555555555556,
             "#d8576b"
            ],
            [
             0.6666666666666666,
             "#ed7953"
            ],
            [
             0.7777777777777778,
             "#fb9f3a"
            ],
            [
             0.8888888888888888,
             "#fdca26"
            ],
            [
             1,
             "#f0f921"
            ]
           ],
           "sequentialminus": [
            [
             0,
             "#0d0887"
            ],
            [
             0.1111111111111111,
             "#46039f"
            ],
            [
             0.2222222222222222,
             "#7201a8"
            ],
            [
             0.3333333333333333,
             "#9c179e"
            ],
            [
             0.4444444444444444,
             "#bd3786"
            ],
            [
             0.5555555555555556,
             "#d8576b"
            ],
            [
             0.6666666666666666,
             "#ed7953"
            ],
            [
             0.7777777777777778,
             "#fb9f3a"
            ],
            [
             0.8888888888888888,
             "#fdca26"
            ],
            [
             1,
             "#f0f921"
            ]
           ]
          },
          "colorway": [
           "#636efa",
           "#EF553B",
           "#00cc96",
           "#ab63fa",
           "#FFA15A",
           "#19d3f3",
           "#FF6692",
           "#B6E880",
           "#FF97FF",
           "#FECB52"
          ],
          "font": {
           "color": "#2a3f5f"
          },
          "geo": {
           "bgcolor": "white",
           "lakecolor": "white",
           "landcolor": "white",
           "showlakes": true,
           "showland": true,
           "subunitcolor": "#C8D4E3"
          },
          "hoverlabel": {
           "align": "left"
          },
          "hovermode": "closest",
          "mapbox": {
           "style": "light"
          },
          "paper_bgcolor": "white",
          "plot_bgcolor": "white",
          "polar": {
           "angularaxis": {
            "gridcolor": "#EBF0F8",
            "linecolor": "#EBF0F8",
            "ticks": ""
           },
           "bgcolor": "white",
           "radialaxis": {
            "gridcolor": "#EBF0F8",
            "linecolor": "#EBF0F8",
            "ticks": ""
           }
          },
          "scene": {
           "xaxis": {
            "backgroundcolor": "white",
            "gridcolor": "#DFE8F3",
            "gridwidth": 2,
            "linecolor": "#EBF0F8",
            "showbackground": true,
            "ticks": "",
            "zerolinecolor": "#EBF0F8"
           },
           "yaxis": {
            "backgroundcolor": "white",
            "gridcolor": "#DFE8F3",
            "gridwidth": 2,
            "linecolor": "#EBF0F8",
            "showbackground": true,
            "ticks": "",
            "zerolinecolor": "#EBF0F8"
           },
           "zaxis": {
            "backgroundcolor": "white",
            "gridcolor": "#DFE8F3",
            "gridwidth": 2,
            "linecolor": "#EBF0F8",
            "showbackground": true,
            "ticks": "",
            "zerolinecolor": "#EBF0F8"
           }
          },
          "shapedefaults": {
           "line": {
            "color": "#2a3f5f"
           }
          },
          "ternary": {
           "aaxis": {
            "gridcolor": "#DFE8F3",
            "linecolor": "#A2B1C6",
            "ticks": ""
           },
           "baxis": {
            "gridcolor": "#DFE8F3",
            "linecolor": "#A2B1C6",
            "ticks": ""
           },
           "bgcolor": "white",
           "caxis": {
            "gridcolor": "#DFE8F3",
            "linecolor": "#A2B1C6",
            "ticks": ""
           }
          },
          "title": {
           "x": 0.05
          },
          "xaxis": {
           "automargin": true,
           "gridcolor": "#EBF0F8",
           "linecolor": "#EBF0F8",
           "ticks": "",
           "title": {
            "standoff": 15
           },
           "zerolinecolor": "#EBF0F8",
           "zerolinewidth": 2
          },
          "yaxis": {
           "automargin": true,
           "gridcolor": "#EBF0F8",
           "linecolor": "#EBF0F8",
           "ticks": "",
           "title": {
            "standoff": 15
           },
           "zerolinecolor": "#EBF0F8",
           "zerolinewidth": 2
          }
         }
        },
        "title": {
         "text": "[2022-02-20 09:32:21] Step: 101/"
        },
        "xaxis": {
         "anchor": "y",
         "domain": [
          0,
          1
         ],
         "gridcolor": "Gainsboro",
         "linecolor": "Grey",
         "matches": "x4",
         "rangeslider": {
          "visible": false
         },
         "showticklabels": false,
         "title": {
          "font": {
           "size": 12
          },
          "standoff": 7,
          "text": "Price"
         }
        },
        "xaxis2": {
         "anchor": "y2",
         "domain": [
          0,
          1
         ],
         "gridcolor": "Gainsboro",
         "linecolor": "Grey",
         "matches": "x4",
         "showticklabels": false,
         "title": {
          "font": {
           "size": 12
          },
          "standoff": 7,
          "text": "Volume"
         }
        },
        "xaxis3": {
         "anchor": "y3",
         "domain": [
          0,
          1
         ],
         "gridcolor": "Gainsboro",
         "linecolor": "Grey",
         "matches": "x4",
         "showticklabels": false,
         "title": {
          "font": {
           "size": 12
          },
          "standoff": 7,
          "text": "Performance"
         }
        },
        "xaxis4": {
         "anchor": "y4",
         "domain": [
          0,
          1
         ],
         "gridcolor": "Gainsboro",
         "linecolor": "Grey",
         "title": {
          "font": {
           "size": 12
          },
          "standoff": 7,
          "text": "Net Worth"
         }
        },
        "yaxis": {
         "anchor": "x",
         "domain": [
          0.49950000000000006,
          1
         ],
         "gridcolor": "Gainsboro",
         "linecolor": "Grey"
        },
        "yaxis2": {
         "anchor": "x2",
         "domain": [
          0.333,
          0.46950000000000003
         ],
         "gridcolor": "Gainsboro",
         "linecolor": "Grey"
        },
        "yaxis3": {
         "anchor": "x3",
         "domain": [
          0.1665,
          0.30300000000000005
         ],
         "gridcolor": "Gainsboro",
         "linecolor": "Grey"
        },
        "yaxis4": {
         "anchor": "x4",
         "domain": [
          0,
          0.1365
         ],
         "gridcolor": "Gainsboro",
         "linecolor": "Grey"
        }
       }
      },
      "text/html": [
       "<div>                            <div id=\"473c6c99-2e17-4af4-8b74-3c71e8e280b2\" class=\"plotly-graph-div\" style=\"height:525px; width:100%;\"></div>            <script type=\"text/javascript\">                require([\"plotly\"], function(Plotly) {                    window.PLOTLYENV=window.PLOTLYENV || {};                                    if (document.getElementById(\"473c6c99-2e17-4af4-8b74-3c71e8e280b2\")) {                    Plotly.newPlot(                        \"473c6c99-2e17-4af4-8b74-3c71e8e280b2\",                        [{\"name\":\"Price\",\"showlegend\":false,\"xaxis\":\"x\",\"yaxis\":\"y\",\"type\":\"candlestick\",\"uid\":\"3f3a43c3-f0c5-4a08-aa42-50085de25e24\",\"close\":[8348.6,8158.1,8205.9,8276.0,8255.2,8286.4,8266.2,8227.4,8290.0,8271.9,8278.1,8336.1,8346.07,8368.7,8373.5,8355.0,8319.5,8352.2,8337.8,8246.7,8270.1,8279.4,8296.4,8302.0,8274.8,8288.8,8311.8,8300.9,8271.6,8250.0,8163.4,8170.0,8206.1,8147.08,8069.9,8054.3,7958.0,7981.1,7995.1,7996.0,8016.0,8035.7,7964.0,8085.0,8123.6,8102.4,8130.0,8101.5,8105.5,8095.7,8074.9,8105.0,8130.0,8103.3,8209.1,8224.9,8224.2,8226.9,8214.0,8238.9,8215.0,8192.9,8200.0,8237.5,8226.4,8236.2,8216.7,8171.4,8210.0,8188.9,8238.5,8382.0,8345.2,8300.6,8302.7,8307.9,8289.8,8296.4,8289.8,8304.0,8254.0,8195.1,8215.5,8231.0,8190.6,8218.3,8281.2,8252.0,8257.0,8247.6,8247.9,8257.6,8276.5,8342.7,8343.0,8342.7,8305.9,8319.8,8342.0,8373.2,8484.6],\"high\":[8380.0,8372.8,8212.0,8370.2,8318.5,8349.3,8328.0,8375.0,8290.8,8314.0,8366.9,8357.3,8396.8,8376.1,8394.0,8482.2,8373.5,8374.8,8364.3,8345.7,8280.6,8315.6,8313.2,8316.0,8337.4,8299.9,8363.0,8323.8,8320.6,8271.6,8266.4,8192.0,8232.0,8206.5,8147.08,8093.0,8063.0,8024.9,8022.7,8023.0,8057.0,8046.2,8035.7,8161.0,8138.7,8130.8,8145.8,8131.7,8128.0,8116.0,8095.8,8133.0,8157.6,8143.9,8224.0,8277.2,8250.1,8265.5,8246.9,8247.5,8255.0,8225.2,8211.6,8277.8,8270.7,8236.92,8250.0,8219.0,8210.0,8213.0,8250.0,8430.0,8401.0,8374.3,8330.1,8315.1,8315.2,8302.1,8315.4,8304.1,8310.0,8254.0,8234.0,8248.7,8231.0,8220.0,8282.04,8286.1,8265.9,8270.0,8291.0,8268.9,8298.9,8357.5,8379.0,8346.5,8360.4,8337.5,8350.4,8374.1,8535.0],\"low\":[8342.2,8121.7,8158.07,8205.8,8192.6,8240.9,8266.1,8227.01,8222.0,8252.2,8271.9,8274.0,8319.2,8311.3,8354.9,8320.9,8316.4,8274.2,8333.1,8190.4,8202.5,8263.0,8256.7,8280.0,8227.8,8266.44,8287.8,8286.9,8218.3,8228.76,8119.4,8153.0,8170.0,8144.4,7982.5,7990.7,7925.0,7941.3,7944.8,7977.03,7995.8,7990.12,7950.8,7964.0,8080.3,8085.1,8093.1,8050.0,8079.7,8050.0,8036.7,8066.2,8080.0,8093.8,8085.9,8200.3,8205.5,8222.8,8200.3,8214.0,8211.0,8164.1,8178.7,8185.86,8222.1,8216.0,8216.1,8140.2,8145.2,8185.1,8188.8,8230.2,8327.2,8283.5,8294.5,8279.0,8273.6,8271.0,8289.8,8274.4,8254.0,8189.2,8172.4,8197.2,8182.1,8171.5,8212.0,8240.2,8237.7,8241.0,8247.6,8229.7,8255.4,8276.5,8324.9,8316.5,8290.3,8292.8,8319.8,8337.5,8373.2],\"open\":[8358.5,8348.6,8158.1,8205.9,8276.0,8255.2,8286.4,8266.2,8227.4,8290.0,8271.9,8278.1,8336.1,8346.07,8368.7,8373.5,8355.0,8319.5,8352.2,8337.8,8246.7,8270.1,8279.4,8296.4,8302.0,8274.8,8288.8,8311.8,8300.9,8271.6,8250.0,8163.4,8170.0,8206.1,8147.08,8069.9,8054.3,7958.0,7981.1,7995.1,7996.0,8016.0,8035.7,7964.0,8085.0,8123.6,8102.4,8130.0,8101.5,8105.5,8095.7,8074.9,8105.0,8130.0,8103.3,8209.1,8224.9,8224.2,8226.9,8214.0,8238.9,8215.0,8192.9,8200.0,8237.5,8226.4,8236.2,8216.7,8171.4,8210.0,8188.9,8238.5,8382.0,8345.2,8300.6,8302.7,8307.9,8289.8,8296.4,8289.8,8304.0,8254.0,8195.1,8215.5,8231.0,8190.6,8218.3,8281.2,8252.0,8257.0,8247.6,8247.9,8257.6,8276.5,8342.7,8343.0,8342.7,8305.9,8319.8,8342.0,8373.2]},{\"marker\":{\"color\":\"DodgerBlue\"},\"name\":\"Volume\",\"showlegend\":false,\"xaxis\":\"x2\",\"yaxis\":\"y2\",\"type\":\"bar\",\"uid\":\"31e9ce6e-94fc-4c57-9fcd-26722cbc4bb4\",\"y\":[5479810,24269108,5457501,15802905,15226854,22453283,2340358,6197892,4343002,4066149,6783076,6912962,7878424,5713233,4875954,18714875,2581490,7487354,2795240,15044687,8332633,3351047,3576555,4412616,10318967,3219867,6528544,2382210,14537481,4152516,14783512,5582076,6338329,4880828,38371646,7470965,13753738,7557856,7570792,5015084,9380234,4996646,6179627,23205279,7010761,4485979,5708771,7389891,8258179,6649750,6531746,5094499,8542485,4862989,10479980,22630523,2287274,2232387,1645824,2765733,3205020,3952721,1140139,7996865,2889095,1665538,1151743,9742621,2324514,2334663,2927809,10054408,11994488,10677166,2714399,9219522,3947596,2038591,1794741,3154886,2134195,5748652,2924028,3827287,6168063,2415201,3497915,2793383,1063847,1265013,2593800,975383,3526062,8391262,10551816,2410417,4167090,2402958,3281445,4790161,32112292]},{\"mode\":\"lines\",\"name\":\"bitstamp:/USD-BTC\",\"xaxis\":\"x3\",\"yaxis\":\"y3\",\"type\":\"scatter\",\"uid\":\"f334c0ef-34b8-46ec-9de1-136b1a29eb46\",\"y\":[8348.6,8158.1,8205.9,8276.0,8255.2,8286.4,8266.2,8227.4,8290.0,8271.9,8278.1,8336.1,8346.07,8368.7,8373.5,8355.0,8319.5,8352.2,8337.8,8246.7,8270.1,8279.4,8296.4,8302.0,8274.8,8288.8,8311.8,8300.9,8271.6,8250.0,8163.4,8170.0,8206.1,8147.08,8069.9,8054.3,7958.0,7981.1,7995.1,7996.0,8016.0,8035.7,7964.0,8085.0,8123.6,8102.4,8130.0,8101.5,8105.5,8095.7,8074.9,8105.0,8130.0,8103.3,8209.1,8224.9,8224.2,8226.9,8214.0,8238.9,8215.0,8192.9,8200.0,8237.5,8226.4,8236.2,8216.7,8171.4,8210.0,8188.9,8238.5,8382.0,8345.2,8300.6,8302.7,8307.9,8289.8,8296.4,8289.8,8304.0,8254.0,8195.1,8215.5,8231.0,8190.6,8218.3,8281.2,8252.0,8257.0,8247.6,8247.9,8257.6,8276.5,8342.7,8343.0,8342.7,8305.9,8319.8,8342.0,8373.2,8484.6]},{\"mode\":\"lines\",\"name\":\"bitstamp:/USD:/free\",\"xaxis\":\"x3\",\"yaxis\":\"y3\",\"type\":\"scatter\",\"uid\":\"12a2a233-9b42-496c-836e-192f1404324e\",\"y\":[50000.0,0.0,0.0,0.0,0.0,0.0,0.0,0.0,0.0,0.0,0.0,0.0,0.0,0.0,0.0,0.0,0.0,0.0,0.0,0.0,0.0,0.0,0.0,0.0,0.0,0.0,0.0,0.0,0.0,0.0,0.0,0.0,0.0,0.0,0.0,0.0,0.0,0.0,0.0,0.0,0.0,0.0,0.0,0.0,0.0,0.0,0.0,0.0,0.0,0.0,0.0,0.0,0.0,0.0,0.0,0.0,0.0,0.0,0.0,0.0,0.0,0.0,0.0,0.0,0.0,0.0,0.0,0.0,0.0,0.0,0.0,0.0,0.0,0.0,0.0,0.0,0.0,0.0,0.0,0.0,0.0,0.0,0.0,0.0,0.0,0.0,0.0,0.0,0.0,0.0,0.0,0.0,0.0,0.0,0.0,0.0,0.0,0.0,0.0,0.0,0.0]},{\"mode\":\"lines\",\"name\":\"bitstamp:/USD:/locked\",\"xaxis\":\"x3\",\"yaxis\":\"y3\",\"type\":\"scatter\",\"uid\":\"515fccc8-2838-4076-bf84-b2bc178e8166\",\"y\":[0.0,0.0,0.0,0.0,0.0,0.0,0.0,0.0,0.0,0.0,0.0,0.0,0.0,0.0,0.0,0.0,0.0,0.0,0.0,0.0,0.0,0.0,0.0,0.0,0.0,0.0,0.0,0.0,0.0,0.0,0.0,0.0,0.0,0.0,0.0,0.0,0.0,0.0,0.0,0.0,0.0,0.0,0.0,0.0,0.0,0.0,0.0,0.0,0.0,0.0,0.0,0.0,0.0,0.0,0.0,0.0,0.0,0.0,0.0,0.0,0.0,0.0,0.0,0.0,0.0,0.0,0.0,0.0,0.0,0.0,0.0,0.0,0.0,0.0,0.0,0.0,0.0,0.0,0.0,0.0,0.0,0.0,0.0,0.0,0.0,0.0,0.0,0.0,0.0,0.0,0.0,0.0,0.0,0.0,0.0,0.0,0.0,0.0,0.0,0.0,0.0]},{\"mode\":\"lines\",\"name\":\"bitstamp:/USD:/total\",\"xaxis\":\"x3\",\"yaxis\":\"y3\",\"type\":\"scatter\",\"uid\":\"13891ac4-7cba-42d5-8bc8-b30f634d04bb\",\"y\":[50000.0,0.0,0.0,0.0,0.0,0.0,0.0,0.0,0.0,0.0,0.0,0.0,0.0,0.0,0.0,0.0,0.0,0.0,0.0,0.0,0.0,0.0,0.0,0.0,0.0,0.0,0.0,0.0,0.0,0.0,0.0,0.0,0.0,0.0,0.0,0.0,0.0,0.0,0.0,0.0,0.0,0.0,0.0,0.0,0.0,0.0,0.0,0.0,0.0,0.0,0.0,0.0,0.0,0.0,0.0,0.0,0.0,0.0,0.0,0.0,0.0,0.0,0.0,0.0,0.0,0.0,0.0,0.0,0.0,0.0,0.0,0.0,0.0,0.0,0.0,0.0,0.0,0.0,0.0,0.0,0.0,0.0,0.0,0.0,0.0,0.0,0.0,0.0,0.0,0.0,0.0,0.0,0.0,0.0,0.0,0.0,0.0,0.0,0.0,0.0,0.0]},{\"mode\":\"lines\",\"name\":\"bitstamp:/BTC:/free\",\"xaxis\":\"x3\",\"yaxis\":\"y3\",\"type\":\"scatter\",\"uid\":\"a4a6a22e-c3e9-4202-b925-54805ece2960\",\"y\":[0.0,5.97106102,5.97106102,5.97106102,5.97106102,5.97106102,5.97106102,5.97106102,5.97106102,5.97106102,5.97106102,5.97106102,5.97106102,5.97106102,5.97106102,5.97106102,5.97106102,5.97106102,5.97106102,5.97106102,5.97106102,5.97106102,5.97106102,5.97106102,5.97106102,5.97106102,5.97106102,5.97106102,5.97106102,5.97106102,5.97106102,5.97106102,5.97106102,5.97106102,5.97106102,5.97106102,5.97106102,5.97106102,5.97106102,5.97106102,5.97106102,5.97106102,5.97106102,5.97106102,5.97106102,5.97106102,5.97106102,5.97106102,5.97106102,5.97106102,5.97106102,5.97106102,5.97106102,5.97106102,5.97106102,5.97106102,5.97106102,5.97106102,5.97106102,5.97106102,5.97106102,5.97106102,5.97106102,5.97106102,5.97106102,5.97106102,5.97106102,5.97106102,5.97106102,5.97106102,5.97106102,5.97106102,5.97106102,5.97106102,5.97106102,5.97106102,5.97106102,5.97106102,5.97106102,5.97106102,5.97106102,5.97106102,5.97106102,5.97106102,5.97106102,5.97106102,5.97106102,5.97106102,5.97106102,5.97106102,5.97106102,5.97106102,5.97106102,5.97106102,5.97106102,5.97106102,5.97106102,5.97106102,5.97106102,5.97106102,5.97106102]},{\"mode\":\"lines\",\"name\":\"bitstamp:/BTC:/locked\",\"xaxis\":\"x3\",\"yaxis\":\"y3\",\"type\":\"scatter\",\"uid\":\"16f309a9-6762-48d7-bb13-d88429ebd7b5\",\"y\":[0.0,0.0,0.0,0.0,0.0,0.0,0.0,0.0,0.0,0.0,0.0,0.0,0.0,0.0,0.0,0.0,0.0,0.0,0.0,0.0,0.0,0.0,0.0,0.0,0.0,0.0,0.0,0.0,0.0,0.0,0.0,0.0,0.0,0.0,0.0,0.0,0.0,0.0,0.0,0.0,0.0,0.0,0.0,0.0,0.0,0.0,0.0,0.0,0.0,0.0,0.0,0.0,0.0,0.0,0.0,0.0,0.0,0.0,0.0,0.0,0.0,0.0,0.0,0.0,0.0,0.0,0.0,0.0,0.0,0.0,0.0,0.0,0.0,0.0,0.0,0.0,0.0,0.0,0.0,0.0,0.0,0.0,0.0,0.0,0.0,0.0,0.0,0.0,0.0,0.0,0.0,0.0,0.0,0.0,0.0,0.0,0.0,0.0,0.0,0.0,0.0]},{\"mode\":\"lines\",\"name\":\"bitstamp:/BTC:/total\",\"xaxis\":\"x3\",\"yaxis\":\"y3\",\"type\":\"scatter\",\"uid\":\"620abb3d-4e71-4eb5-bc79-eea9f24f06eb\",\"y\":[0.0,5.97106102,5.97106102,5.97106102,5.97106102,5.97106102,5.97106102,5.97106102,5.97106102,5.97106102,5.97106102,5.97106102,5.97106102,5.97106102,5.97106102,5.97106102,5.97106102,5.97106102,5.97106102,5.97106102,5.97106102,5.97106102,5.97106102,5.97106102,5.97106102,5.97106102,5.97106102,5.97106102,5.97106102,5.97106102,5.97106102,5.97106102,5.97106102,5.97106102,5.97106102,5.97106102,5.97106102,5.97106102,5.97106102,5.97106102,5.97106102,5.97106102,5.97106102,5.97106102,5.97106102,5.97106102,5.97106102,5.97106102,5.97106102,5.97106102,5.97106102,5.97106102,5.97106102,5.97106102,5.97106102,5.97106102,5.97106102,5.97106102,5.97106102,5.97106102,5.97106102,5.97106102,5.97106102,5.97106102,5.97106102,5.97106102,5.97106102,5.97106102,5.97106102,5.97106102,5.97106102,5.97106102,5.97106102,5.97106102,5.97106102,5.97106102,5.97106102,5.97106102,5.97106102,5.97106102,5.97106102,5.97106102,5.97106102,5.97106102,5.97106102,5.97106102,5.97106102,5.97106102,5.97106102,5.97106102,5.97106102,5.97106102,5.97106102,5.97106102,5.97106102,5.97106102,5.97106102,5.97106102,5.97106102,5.97106102,5.97106102]},{\"mode\":\"lines\",\"name\":\"bitstamp:/BTC:/worth\",\"xaxis\":\"x3\",\"yaxis\":\"y3\",\"type\":\"scatter\",\"uid\":\"cba08840-3d4d-4a35-97b1-3a877b6dde7f\",\"y\":[0.0,48712.512907262,48997.929624018,49416.501001519995,49292.302932304,49478.600036127995,49357.984603524004,49126.307435947994,49500.0958558,49392.01965133799,49429.040229662,49775.361768822,49834.893247191394,49970.018358074,49998.67945097,49888.214822099995,49676.242155889995,49871.495851244,49785.51257255599,49241.548913634004,49381.271741502,49436.80260898799,49538.31064632799,49571.74858804,49409.33572829599,49492.930582575995,49630.26498603599,49565.180420918,49390.228333032,49261.253415,48744.159530667996,48783.56853339999,48999.123836221996,48646.711814821596,48185.86532529799,48092.716773386,47517.70359716,47655.635106722,47739.229961002,47744.60391591999,47864.02513632,47981.655038414,47553.529963279994,48276.0283467,48506.511302072,48379.92480844799,48544.726092599994,48374.550853529996,48398.435097609996,48339.918699614,48215.72063039799,48395.4495671,48544.726092599994,48385.298763366,49017.037019282,49111.37978339799,49107.200040684,49123.321905437995,49046.29521828,49194.974637677995,49052.2662793,48920.30583075799,48962.700364,49186.61515225,49120.336374927996,49178.852772924,49062.417083034,48791.928018827995,49022.4109742,48896.42158667799,49192.58621327,50049.43346964,49829.698424104005,49563.389102611996,49575.928330754,49606.97784805799,49498.90164359599,49538.31064632799,49498.90164359599,49583.690710079994,49285.13765908,48933.442165002,49055.25180981,49147.80325562,48906.572390412,49071.97078066599,49447.550518824,49273.195537039996,49303.05084213999,49246.922868552,49248.71418685799,49306.633478751995,49419.486532029994,49814.770771554,49816.562089859995,49814.770771554,49595.035726017995,49678.033474195996,49810.59102884,49996.888132664004,50662.064330292]},{\"mode\":\"lines\",\"name\":\"net_worth\",\"xaxis\":\"x3\",\"yaxis\":\"y3\",\"type\":\"scatter\",\"uid\":\"f4f41c1a-970b-4def-a34c-5802fa3d77e9\",\"y\":[50000.0,48712.512907262,48997.929624018,49416.501001519995,49292.302932304,49478.600036127995,49357.984603524004,49126.307435947994,49500.0958558,49392.01965133799,49429.040229662,49775.361768822,49834.893247191394,49970.018358074,49998.67945097,49888.214822099995,49676.242155889995,49871.495851244,49785.51257255599,49241.548913634004,49381.271741502,49436.80260898799,49538.31064632799,49571.74858804,49409.33572829599,49492.930582575995,49630.26498603599,49565.180420918,49390.228333032,49261.253415,48744.159530667996,48783.56853339999,48999.123836221996,48646.711814821596,48185.86532529799,48092.716773386,47517.70359716,47655.635106722,47739.229961002,47744.60391591999,47864.02513632,47981.655038414,47553.529963279994,48276.0283467,48506.511302072,48379.92480844799,48544.726092599994,48374.550853529996,48398.435097609996,48339.918699614,48215.72063039799,48395.4495671,48544.726092599994,48385.298763366,49017.037019282,49111.37978339799,49107.200040684,49123.321905437995,49046.29521828,49194.974637677995,49052.2662793,48920.30583075799,48962.700364,49186.61515225,49120.336374927996,49178.852772924,49062.417083034,48791.928018827995,49022.4109742,48896.42158667799,49192.58621327,50049.43346964,49829.698424104005,49563.389102611996,49575.928330754,49606.97784805799,49498.90164359599,49538.31064632799,49498.90164359599,49583.690710079994,49285.13765908,48933.442165002,49055.25180981,49147.80325562,48906.572390412,49071.97078066599,49447.550518824,49273.195537039996,49303.05084213999,49246.922868552,49248.71418685799,49306.633478751995,49419.486532029994,49814.770771554,49816.562089859995,49814.770771554,49595.035726017995,49678.033474195996,49810.59102884,49996.888132664004,50662.064330292]},{\"marker\":{\"color\":\"DarkGreen\"},\"mode\":\"lines\",\"name\":\"Net Worth\",\"xaxis\":\"x4\",\"yaxis\":\"y4\",\"type\":\"scatter\",\"uid\":\"49f2dab8-9230-4be4-bac4-eacfd773fb16\",\"y\":[50000.0,48712.512907262,48997.929624018,49416.501001519995,49292.302932304,49478.600036127995,49357.984603524004,49126.307435947994,49500.0958558,49392.01965133799,49429.040229662,49775.361768822,49834.893247191394,49970.018358074,49998.67945097,49888.214822099995,49676.242155889995,49871.495851244,49785.51257255599,49241.548913634004,49381.271741502,49436.80260898799,49538.31064632799,49571.74858804,49409.33572829599,49492.930582575995,49630.26498603599,49565.180420918,49390.228333032,49261.253415,48744.159530667996,48783.56853339999,48999.123836221996,48646.711814821596,48185.86532529799,48092.716773386,47517.70359716,47655.635106722,47739.229961002,47744.60391591999,47864.02513632,47981.655038414,47553.529963279994,48276.0283467,48506.511302072,48379.92480844799,48544.726092599994,48374.550853529996,48398.435097609996,48339.918699614,48215.72063039799,48395.4495671,48544.726092599994,48385.298763366,49017.037019282,49111.37978339799,49107.200040684,49123.321905437995,49046.29521828,49194.974637677995,49052.2662793,48920.30583075799,48962.700364,49186.61515225,49120.336374927996,49178.852772924,49062.417083034,48791.928018827995,49022.4109742,48896.42158667799,49192.58621327,50049.43346964,49829.698424104005,49563.389102611996,49575.928330754,49606.97784805799,49498.90164359599,49538.31064632799,49498.90164359599,49583.690710079994,49285.13765908,48933.442165002,49055.25180981,49147.80325562,48906.572390412,49071.97078066599,49447.550518824,49273.195537039996,49303.05084213999,49246.922868552,49248.71418685799,49306.633478751995,49419.486532029994,49814.770771554,49816.562089859995,49814.770771554,49595.035726017995,49678.033474195996,49810.59102884,49996.888132664004,50662.064330292]}],                        {\"template\":{\"data\":{\"barpolar\":[{\"marker\":{\"line\":{\"color\":\"white\",\"width\":0.5},\"pattern\":{\"fillmode\":\"overlay\",\"size\":10,\"solidity\":0.2}},\"type\":\"barpolar\"}],\"bar\":[{\"error_x\":{\"color\":\"#2a3f5f\"},\"error_y\":{\"color\":\"#2a3f5f\"},\"marker\":{\"line\":{\"color\":\"white\",\"width\":0.5},\"pattern\":{\"fillmode\":\"overlay\",\"size\":10,\"solidity\":0.2}},\"type\":\"bar\"}],\"carpet\":[{\"aaxis\":{\"endlinecolor\":\"#2a3f5f\",\"gridcolor\":\"#C8D4E3\",\"linecolor\":\"#C8D4E3\",\"minorgridcolor\":\"#C8D4E3\",\"startlinecolor\":\"#2a3f5f\"},\"baxis\":{\"endlinecolor\":\"#2a3f5f\",\"gridcolor\":\"#C8D4E3\",\"linecolor\":\"#C8D4E3\",\"minorgridcolor\":\"#C8D4E3\",\"startlinecolor\":\"#2a3f5f\"},\"type\":\"carpet\"}],\"choropleth\":[{\"colorbar\":{\"outlinewidth\":0,\"ticks\":\"\"},\"type\":\"choropleth\"}],\"contourcarpet\":[{\"colorbar\":{\"outlinewidth\":0,\"ticks\":\"\"},\"type\":\"contourcarpet\"}],\"contour\":[{\"colorbar\":{\"outlinewidth\":0,\"ticks\":\"\"},\"colorscale\":[[0.0,\"#0d0887\"],[0.1111111111111111,\"#46039f\"],[0.2222222222222222,\"#7201a8\"],[0.3333333333333333,\"#9c179e\"],[0.4444444444444444,\"#bd3786\"],[0.5555555555555556,\"#d8576b\"],[0.6666666666666666,\"#ed7953\"],[0.7777777777777778,\"#fb9f3a\"],[0.8888888888888888,\"#fdca26\"],[1.0,\"#f0f921\"]],\"type\":\"contour\"}],\"heatmapgl\":[{\"colorbar\":{\"outlinewidth\":0,\"ticks\":\"\"},\"colorscale\":[[0.0,\"#0d0887\"],[0.1111111111111111,\"#46039f\"],[0.2222222222222222,\"#7201a8\"],[0.3333333333333333,\"#9c179e\"],[0.4444444444444444,\"#bd3786\"],[0.5555555555555556,\"#d8576b\"],[0.6666666666666666,\"#ed7953\"],[0.7777777777777778,\"#fb9f3a\"],[0.8888888888888888,\"#fdca26\"],[1.0,\"#f0f921\"]],\"type\":\"heatmapgl\"}],\"heatmap\":[{\"colorbar\":{\"outlinewidth\":0,\"ticks\":\"\"},\"colorscale\":[[0.0,\"#0d0887\"],[0.1111111111111111,\"#46039f\"],[0.2222222222222222,\"#7201a8\"],[0.3333333333333333,\"#9c179e\"],[0.4444444444444444,\"#bd3786\"],[0.5555555555555556,\"#d8576b\"],[0.6666666666666666,\"#ed7953\"],[0.7777777777777778,\"#fb9f3a\"],[0.8888888888888888,\"#fdca26\"],[1.0,\"#f0f921\"]],\"type\":\"heatmap\"}],\"histogram2dcontour\":[{\"colorbar\":{\"outlinewidth\":0,\"ticks\":\"\"},\"colorscale\":[[0.0,\"#0d0887\"],[0.1111111111111111,\"#46039f\"],[0.2222222222222222,\"#7201a8\"],[0.3333333333333333,\"#9c179e\"],[0.4444444444444444,\"#bd3786\"],[0.5555555555555556,\"#d8576b\"],[0.6666666666666666,\"#ed7953\"],[0.7777777777777778,\"#fb9f3a\"],[0.8888888888888888,\"#fdca26\"],[1.0,\"#f0f921\"]],\"type\":\"histogram2dcontour\"}],\"histogram2d\":[{\"colorbar\":{\"outlinewidth\":0,\"ticks\":\"\"},\"colorscale\":[[0.0,\"#0d0887\"],[0.1111111111111111,\"#46039f\"],[0.2222222222222222,\"#7201a8\"],[0.3333333333333333,\"#9c179e\"],[0.4444444444444444,\"#bd3786\"],[0.5555555555555556,\"#d8576b\"],[0.6666666666666666,\"#ed7953\"],[0.7777777777777778,\"#fb9f3a\"],[0.8888888888888888,\"#fdca26\"],[1.0,\"#f0f921\"]],\"type\":\"histogram2d\"}],\"histogram\":[{\"marker\":{\"pattern\":{\"fillmode\":\"overlay\",\"size\":10,\"solidity\":0.2}},\"type\":\"histogram\"}],\"mesh3d\":[{\"colorbar\":{\"outlinewidth\":0,\"ticks\":\"\"},\"type\":\"mesh3d\"}],\"parcoords\":[{\"line\":{\"colorbar\":{\"outlinewidth\":0,\"ticks\":\"\"}},\"type\":\"parcoords\"}],\"pie\":[{\"automargin\":true,\"type\":\"pie\"}],\"scatter3d\":[{\"line\":{\"colorbar\":{\"outlinewidth\":0,\"ticks\":\"\"}},\"marker\":{\"colorbar\":{\"outlinewidth\":0,\"ticks\":\"\"}},\"type\":\"scatter3d\"}],\"scattercarpet\":[{\"marker\":{\"colorbar\":{\"outlinewidth\":0,\"ticks\":\"\"}},\"type\":\"scattercarpet\"}],\"scattergeo\":[{\"marker\":{\"colorbar\":{\"outlinewidth\":0,\"ticks\":\"\"}},\"type\":\"scattergeo\"}],\"scattergl\":[{\"marker\":{\"colorbar\":{\"outlinewidth\":0,\"ticks\":\"\"}},\"type\":\"scattergl\"}],\"scattermapbox\":[{\"marker\":{\"colorbar\":{\"outlinewidth\":0,\"ticks\":\"\"}},\"type\":\"scattermapbox\"}],\"scatterpolargl\":[{\"marker\":{\"colorbar\":{\"outlinewidth\":0,\"ticks\":\"\"}},\"type\":\"scatterpolargl\"}],\"scatterpolar\":[{\"marker\":{\"colorbar\":{\"outlinewidth\":0,\"ticks\":\"\"}},\"type\":\"scatterpolar\"}],\"scatter\":[{\"marker\":{\"colorbar\":{\"outlinewidth\":0,\"ticks\":\"\"}},\"type\":\"scatter\"}],\"scatterternary\":[{\"marker\":{\"colorbar\":{\"outlinewidth\":0,\"ticks\":\"\"}},\"type\":\"scatterternary\"}],\"surface\":[{\"colorbar\":{\"outlinewidth\":0,\"ticks\":\"\"},\"colorscale\":[[0.0,\"#0d0887\"],[0.1111111111111111,\"#46039f\"],[0.2222222222222222,\"#7201a8\"],[0.3333333333333333,\"#9c179e\"],[0.4444444444444444,\"#bd3786\"],[0.5555555555555556,\"#d8576b\"],[0.6666666666666666,\"#ed7953\"],[0.7777777777777778,\"#fb9f3a\"],[0.8888888888888888,\"#fdca26\"],[1.0,\"#f0f921\"]],\"type\":\"surface\"}],\"table\":[{\"cells\":{\"fill\":{\"color\":\"#EBF0F8\"},\"line\":{\"color\":\"white\"}},\"header\":{\"fill\":{\"color\":\"#C8D4E3\"},\"line\":{\"color\":\"white\"}},\"type\":\"table\"}]},\"layout\":{\"annotationdefaults\":{\"arrowcolor\":\"#2a3f5f\",\"arrowhead\":0,\"arrowwidth\":1},\"autotypenumbers\":\"strict\",\"coloraxis\":{\"colorbar\":{\"outlinewidth\":0,\"ticks\":\"\"}},\"colorscale\":{\"diverging\":[[0,\"#8e0152\"],[0.1,\"#c51b7d\"],[0.2,\"#de77ae\"],[0.3,\"#f1b6da\"],[0.4,\"#fde0ef\"],[0.5,\"#f7f7f7\"],[0.6,\"#e6f5d0\"],[0.7,\"#b8e186\"],[0.8,\"#7fbc41\"],[0.9,\"#4d9221\"],[1,\"#276419\"]],\"sequential\":[[0.0,\"#0d0887\"],[0.1111111111111111,\"#46039f\"],[0.2222222222222222,\"#7201a8\"],[0.3333333333333333,\"#9c179e\"],[0.4444444444444444,\"#bd3786\"],[0.5555555555555556,\"#d8576b\"],[0.6666666666666666,\"#ed7953\"],[0.7777777777777778,\"#fb9f3a\"],[0.8888888888888888,\"#fdca26\"],[1.0,\"#f0f921\"]],\"sequentialminus\":[[0.0,\"#0d0887\"],[0.1111111111111111,\"#46039f\"],[0.2222222222222222,\"#7201a8\"],[0.3333333333333333,\"#9c179e\"],[0.4444444444444444,\"#bd3786\"],[0.5555555555555556,\"#d8576b\"],[0.6666666666666666,\"#ed7953\"],[0.7777777777777778,\"#fb9f3a\"],[0.8888888888888888,\"#fdca26\"],[1.0,\"#f0f921\"]]},\"colorway\":[\"#636efa\",\"#EF553B\",\"#00cc96\",\"#ab63fa\",\"#FFA15A\",\"#19d3f3\",\"#FF6692\",\"#B6E880\",\"#FF97FF\",\"#FECB52\"],\"font\":{\"color\":\"#2a3f5f\"},\"geo\":{\"bgcolor\":\"white\",\"lakecolor\":\"white\",\"landcolor\":\"white\",\"showlakes\":true,\"showland\":true,\"subunitcolor\":\"#C8D4E3\"},\"hoverlabel\":{\"align\":\"left\"},\"hovermode\":\"closest\",\"mapbox\":{\"style\":\"light\"},\"paper_bgcolor\":\"white\",\"plot_bgcolor\":\"white\",\"polar\":{\"angularaxis\":{\"gridcolor\":\"#EBF0F8\",\"linecolor\":\"#EBF0F8\",\"ticks\":\"\"},\"bgcolor\":\"white\",\"radialaxis\":{\"gridcolor\":\"#EBF0F8\",\"linecolor\":\"#EBF0F8\",\"ticks\":\"\"}},\"scene\":{\"xaxis\":{\"backgroundcolor\":\"white\",\"gridcolor\":\"#DFE8F3\",\"gridwidth\":2,\"linecolor\":\"#EBF0F8\",\"showbackground\":true,\"ticks\":\"\",\"zerolinecolor\":\"#EBF0F8\"},\"yaxis\":{\"backgroundcolor\":\"white\",\"gridcolor\":\"#DFE8F3\",\"gridwidth\":2,\"linecolor\":\"#EBF0F8\",\"showbackground\":true,\"ticks\":\"\",\"zerolinecolor\":\"#EBF0F8\"},\"zaxis\":{\"backgroundcolor\":\"white\",\"gridcolor\":\"#DFE8F3\",\"gridwidth\":2,\"linecolor\":\"#EBF0F8\",\"showbackground\":true,\"ticks\":\"\",\"zerolinecolor\":\"#EBF0F8\"}},\"shapedefaults\":{\"line\":{\"color\":\"#2a3f5f\"}},\"ternary\":{\"aaxis\":{\"gridcolor\":\"#DFE8F3\",\"linecolor\":\"#A2B1C6\",\"ticks\":\"\"},\"baxis\":{\"gridcolor\":\"#DFE8F3\",\"linecolor\":\"#A2B1C6\",\"ticks\":\"\"},\"bgcolor\":\"white\",\"caxis\":{\"gridcolor\":\"#DFE8F3\",\"linecolor\":\"#A2B1C6\",\"ticks\":\"\"}},\"title\":{\"x\":0.05},\"xaxis\":{\"automargin\":true,\"gridcolor\":\"#EBF0F8\",\"linecolor\":\"#EBF0F8\",\"ticks\":\"\",\"title\":{\"standoff\":15},\"zerolinecolor\":\"#EBF0F8\",\"zerolinewidth\":2},\"yaxis\":{\"automargin\":true,\"gridcolor\":\"#EBF0F8\",\"linecolor\":\"#EBF0F8\",\"ticks\":\"\",\"title\":{\"standoff\":15},\"zerolinecolor\":\"#EBF0F8\",\"zerolinewidth\":2}}},\"xaxis\":{\"anchor\":\"y\",\"domain\":[0.0,1.0],\"gridcolor\":\"Gainsboro\",\"linecolor\":\"Grey\",\"matches\":\"x4\",\"rangeslider\":{\"visible\":false},\"showticklabels\":false,\"title\":{\"font\":{\"size\":12},\"standoff\":7,\"text\":\"Price\"}},\"yaxis\":{\"anchor\":\"x\",\"domain\":[0.49950000000000006,1.0],\"gridcolor\":\"Gainsboro\",\"linecolor\":\"Grey\"},\"xaxis2\":{\"anchor\":\"y2\",\"domain\":[0.0,1.0],\"gridcolor\":\"Gainsboro\",\"linecolor\":\"Grey\",\"matches\":\"x4\",\"showticklabels\":false,\"title\":{\"font\":{\"size\":12},\"standoff\":7,\"text\":\"Volume\"}},\"yaxis2\":{\"anchor\":\"x2\",\"domain\":[0.333,0.46950000000000003],\"gridcolor\":\"Gainsboro\",\"linecolor\":\"Grey\"},\"xaxis3\":{\"anchor\":\"y3\",\"domain\":[0.0,1.0],\"gridcolor\":\"Gainsboro\",\"linecolor\":\"Grey\",\"matches\":\"x4\",\"showticklabels\":false,\"title\":{\"font\":{\"size\":12},\"standoff\":7,\"text\":\"Performance\"}},\"yaxis3\":{\"anchor\":\"x3\",\"domain\":[0.1665,0.30300000000000005],\"gridcolor\":\"Gainsboro\",\"linecolor\":\"Grey\"},\"xaxis4\":{\"anchor\":\"y4\",\"domain\":[0.0,1.0],\"gridcolor\":\"Gainsboro\",\"linecolor\":\"Grey\",\"title\":{\"font\":{\"size\":12},\"standoff\":7,\"text\":\"Net Worth\"}},\"yaxis4\":{\"anchor\":\"x4\",\"domain\":[0.0,0.1365],\"gridcolor\":\"Gainsboro\",\"linecolor\":\"Grey\"},\"margin\":{\"t\":50},\"title\":{\"text\":\"[2022-02-20 09:32:21] Step: 101/\"},\"annotations\":[{\"arrowcolor\":\"DarkGreen\",\"arrowhead\":2,\"arrowsize\":0.8,\"arrowwidth\":4,\"ax\":0,\"ay\":15,\"hoverlabel\":{\"bgcolor\":\"DarkGreen\"},\"hovertext\":\"Step 1 [2018-05-16 12:00 PM]<br>BUY 5.97106102 BTC @ 8348.6 USD MARKET<br>Total: 49850.0 USD - Comm.: 150.00 USD\",\"opacity\":0.6,\"showarrow\":true,\"x\":0,\"xref\":\"x\",\"y\":8348.6,\"yref\":\"y\"}]},                        {\"responsive\": true}                    ).then(function(){\n",
       "                            \n",
       "var gd = document.getElementById('473c6c99-2e17-4af4-8b74-3c71e8e280b2');\n",
       "var x = new MutationObserver(function (mutations, observer) {{\n",
       "        var display = window.getComputedStyle(gd).display;\n",
       "        if (!display || display === 'none') {{\n",
       "            console.log([gd, 'removed!']);\n",
       "            Plotly.purge(gd);\n",
       "            observer.disconnect();\n",
       "        }}\n",
       "}});\n",
       "\n",
       "// Listen for the removal of the full notebook cells\n",
       "var notebookContainer = gd.closest('#notebook-container');\n",
       "if (notebookContainer) {{\n",
       "    x.observe(notebookContainer, {childList: true});\n",
       "}}\n",
       "\n",
       "// Listen for the clearing of the current output cell\n",
       "var outputEl = gd.closest('.output');\n",
       "if (outputEl) {{\n",
       "    x.observe(outputEl, {childList: true});\n",
       "}}\n",
       "\n",
       "                        })                };                });            </script>        </div>"
      ]
     },
     "metadata": {},
     "output_type": "display_data"
    }
   ],
   "source": [
    "env.render()"
   ]
  }
 ],
 "metadata": {
  "kernelspec": {
   "display_name": "Python 3 (ipykernel)",
   "language": "python",
   "name": "python3"
  },
  "language_info": {
   "codemirror_mode": {
    "name": "ipython",
    "version": 3
   },
   "file_extension": ".py",
   "mimetype": "text/x-python",
   "name": "python",
   "nbconvert_exporter": "python",
   "pygments_lexer": "ipython3",
   "version": "3.8.10"
  }
 },
 "nbformat": 4,
 "nbformat_minor": 4
}
